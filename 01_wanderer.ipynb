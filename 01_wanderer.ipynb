{
 "cells": [
  {
   "cell_type": "markdown",
   "metadata": {
    "Collapsed": "false",
    "toc-hr-collapsed": false
   },
   "source": [
    "# Wanderer\n",
    "> Play Wanderer"
   ]
  },
  {
   "cell_type": "markdown",
   "metadata": {
    "Collapsed": "false"
   },
   "source": [
    "Wanderer is sourced from github.com/red-kangaroo/wanderer as a `git subtree`.\n",
    "We also patch it slightly to make it easier to instrument."
   ]
  },
  {
   "cell_type": "markdown",
   "metadata": {
    "Collapsed": "false"
   },
   "source": [
    "## Interface via Selenium"
   ]
  },
  {
   "cell_type": "code",
   "execution_count": 18,
   "metadata": {
    "Collapsed": "false"
   },
   "outputs": [],
   "source": [
    "from selenium.webdriver.common.keys import Keys\n",
    "import random\n",
    "import re\n",
    "import io\n",
    "import sys\n",
    "\n",
    "lm = [\n",
    "    Keys.ARROW_DOWN, Keys.ARROW_LEFT, Keys.ARROW_UP, Keys.ARROW_RIGHT,\n",
    "    '.', 'x'\n",
    "]\n",
    "\n",
    "#################\n",
    "# Random Strategy\n",
    "# effectively, causes staff to be used less often\n",
    "# longer games, but not necessarily more points.\n",
    "costs = [1/cost for cost in [1,1,1,1,1,10]]\n",
    "def random_move(b):\n",
    "    return random.choices(lm, costs)\n",
    "#################\n",
    "\n",
    "#################\n",
    "# Manual Strategy [WIP]\n",
    "def human_move(b):\n",
    "    return sys.stdin.read(1)\n",
    "#################\n",
    "\n",
    "def board(g):\n",
    "    # .text is a little too magical (writes \\n instead of <br>, etc..)\n",
    "    return g.find_element(by=\"id\", value=\"tsv\").get_attribute('innerHTML')\n",
    "\n",
    "def game_score(g):\n",
    "    # .text is easier to regex than innerHTML\n",
    "    game_over = re.search(\"Your final score is (\\d+) after \", g.text)\n",
    "    # scoring function is the score, but alternative scoring\n",
    "    # functions could count kills, visits, keys, etc..\n",
    "    return game_over.group(1) if game_over else None\n",
    "\n",
    "def turn(g):\n",
    "    s = game_score(g)\n",
    "    b = board(g)\n",
    "    # How we get m will by the strategy\n",
    "    m = random_move(b)\n",
    "    # m = human_move(board(g))\n",
    "    if not s: g.send_keys(m)\n",
    "    return (s, f\"{b}\\t{m}\")\n",
    "\n",
    "def turn_score(b, g):\n",
    "    try:\n",
    "        return int(re.match(\"Self: (?:\\<[^>]+\\>)*(\\w+)\", b.split(\"\\t\")[2500]).group(1))\n",
    "    except ValueError:\n",
    "        return int(re.search(\"Your final score is (\\d+) after \", g.text).group(1))\n",
    "\n",
    "def reward(b1, b2, g):\n",
    "    return turn_score(b2, g) - turn_score(b1, g)\n",
    "\n",
    "def game(driver, save_as=None):\n",
    "    driver.get(\"file:///Users/ewolfson/dev/github.com/yegeniy/rougelaike/wanderer/src/Wanderer.html\")\n",
    "    g = driver.find_element(by=\"tag name\", value=\"body\")\n",
    "    score = None\n",
    "    history = []\n",
    "    while score is None:\n",
    "        score, b = turn(g)\n",
    "        r = reward(b, board(g), g)\n",
    "        # make sure not to leak the moves and rewards in training\n",
    "        history.append(f\"{b}\\t{r}\")\n",
    "    # print(history)\n",
    "    if save_as:\n",
    "        with open(f\"{save_as}\", \"w\") as f: f.write(\"\\n\".join(history))\n",
    "    return int(score), len(history)"
   ]
  },
  {
   "cell_type": "markdown",
   "metadata": {
    "Collapsed": "false"
   },
   "source": [
    "Initialize the Selenium driver.\n",
    "Unless you use headless mode, you'll want to keep this new Firefox window open as long as you are playing."
   ]
  },
  {
   "cell_type": "code",
   "execution_count": 2,
   "metadata": {
    "Collapsed": "false"
   },
   "outputs": [],
   "source": [
    "from selenium import webdriver\n",
    "#driver = webdriver.Firefox()\n",
    "#try: driver.quit()\n",
    "#except: pass\n",
    "from selenium.webdriver.firefox.options import Options\n",
    "options = Options()\n",
    "options.headless = True\n",
    "driver = webdriver.Firefox(options=options)"
   ]
  },
  {
   "cell_type": "code",
   "execution_count": 19,
   "metadata": {
    "Collapsed": "false"
   },
   "outputs": [
    {
     "name": "stdout",
     "output_type": "stream",
     "text": [
      "mkdir: /tmp/wanderer: File exists\n",
      "CPU times: user 422 ms, sys: 22.3 ms, total: 444 ms\n",
      "Wall time: 6.47 s\n"
     ]
    },
    {
     "data": {
      "text/plain": [
       "(0, 74)"
      ]
     },
     "execution_count": 19,
     "metadata": {},
     "output_type": "execute_result"
    }
   ],
   "source": [
    "! mkdir /tmp/wanderer\n",
    "%time game(driver, \"/tmp/wanderer/game\")"
   ]
  },
  {
   "cell_type": "code",
   "execution_count": 192,
   "metadata": {
    "Collapsed": "false"
   },
   "outputs": [],
   "source": [
    "from time import time\n",
    "\n",
    "def play_past(min_score, save_dir=None):\n",
    "    ts=int(time())\n",
    "    g=0\n",
    "    while(True and g < 100):\n",
    "        score, turns = game(driver, f\"{save_dir}/{ts}_{g}.tsv\" if save_dir else None)\n",
    "        g+=1\n",
    "        if score > min_score:\n",
    "            print(f\"{save_dir}/{ts}, {score=}, {turns=} after {g} games\")\n",
    "            break"
   ]
  },
  {
   "cell_type": "code",
   "execution_count": 193,
   "metadata": {
    "Collapsed": "false"
   },
   "outputs": [
    {
     "name": "stdout",
     "output_type": "stream",
     "text": [
      "/tmp/wanderer//1597558645, score=5, turns=82 after 14 games\n",
      "CPU times: user 6.94 s, sys: 389 ms, total: 7.33 s\n",
      "Wall time: 2min 30s\n"
     ]
    }
   ],
   "source": [
    "%time play_past(0, \"/tmp/wanderer/\")"
   ]
  },
  {
   "cell_type": "markdown",
   "metadata": {
    "Collapsed": "false"
   },
   "source": [
    "It might not always be possible to record enough games to show how to get more than a score of 5 using a random strategy. Basically, the cell below will run for a very long time. Possibly long enough to run into a bug in the game."
   ]
  },
  {
   "cell_type": "code",
   "execution_count": 153,
   "metadata": {
    "Collapsed": "false"
   },
   "outputs": [],
   "source": [
    "play_past(27)"
   ]
  },
  {
   "cell_type": "markdown",
   "metadata": {
    "Collapsed": "false"
   },
   "source": [
    "- Could consider recording manual runs to bootstrap the test set.\n",
    "- Need to figure out how to record game state.. Maybe just write a line of `g.text` down or its diff?"
   ]
  },
  {
   "cell_type": "markdown",
   "metadata": {
    "Collapsed": "false"
   },
   "source": [
    "### Debugging Selenium\n"
   ]
  },
  {
   "cell_type": "code",
   "execution_count": null,
   "metadata": {
    "Collapsed": "false"
   },
   "outputs": [],
   "source": [
    "b.get_current_page().getText()"
   ]
  },
  {
   "cell_type": "code",
   "execution_count": 5,
   "metadata": {
    "Collapsed": "false"
   },
   "outputs": [
    {
     "data": {
      "text/plain": [
       "'\\n\\nWanderer\\n\\n\\n\\n\\n\\n\\n\\n\\n\\r\\n    Wanderer v2.1\\r\\n  \\n\\r\\n    There are so many worlds to explore, but only so much of you left...\\r\\n  \\r\\n    Welcome, wanderer. You can check out the source code and report issues on\\r\\n    GitHub, or post\\r\\n    a comment on my blog.\\r\\n    Have fun!\\r\\n  \\r\\n    Use F11 for fullscreen mode.\\r\\n  \\r\\n    Use Ctrl + and Ctrl - to adjust the size\\r\\n    to your liking.\\r\\n  \\r\\n    Press ? for game help.\\r\\n  \\n\\n\\n\\n\\n\\n'"
      ]
     },
     "execution_count": 5,
     "metadata": {},
     "output_type": "execute_result"
    }
   ],
   "source": [
    "'\\n\\nWanderer\\n\\n\\n\\n\\n\\n\\n\\n\\n\\r\\n    Wanderer v2.1\\r\\n  \\n\\r\\n    There are so many worlds to explore, but only so much of you left...\\r\\n  \\r\\n    Welcome, wanderer. You can check out the source code and report issues on\\r\\n    GitHub, or post\\r\\n    a comment on my blog.\\r\\n    Have fun!\\r\\n  \\r\\n    Use F11 for fullscreen mode.\\r\\n  \\r\\n    Use Ctrl + and Ctrl - to adjust the size\\r\\n    to your liking.\\r\\n  \\r\\n    Press ? for game help.\\r\\n  \\n\\n\\n\\n\\n\\n'"
   ]
  },
  {
   "cell_type": "code",
   "execution_count": 210,
   "metadata": {
    "Collapsed": "false"
   },
   "outputs": [
    {
     "data": {
      "text/plain": [
       "['\\ue015',\n",
       " '\\ue015',\n",
       " '\\ue013',\n",
       " '.',\n",
       " '.',\n",
       " '\\ue013',\n",
       " '.',\n",
       " '\\ue013',\n",
       " '\\ue012',\n",
       " '\\ue014',\n",
       " '\\ue015',\n",
       " '.',\n",
       " '\\ue013',\n",
       " '\\ue012',\n",
       " '\\ue013',\n",
       " '\\ue014',\n",
       " '.',\n",
       " '.',\n",
       " '.',\n",
       " '\\ue013',\n",
       " '\\ue014',\n",
       " 'x',\n",
       " '\\ue013',\n",
       " '\\ue012',\n",
       " '\\ue015',\n",
       " '\\ue014',\n",
       " '\\ue013',\n",
       " '\\ue012',\n",
       " '\\ue014',\n",
       " '\\ue015',\n",
       " '\\ue013',\n",
       " '\\ue015',\n",
       " '\\ue013',\n",
       " '\\ue013',\n",
       " '\\ue014',\n",
       " '\\ue015',\n",
       " '\\ue013',\n",
       " '\\ue013',\n",
       " '\\ue012',\n",
       " '\\ue012',\n",
       " '\\ue014',\n",
       " '.',\n",
       " '\\ue015',\n",
       " '\\ue013',\n",
       " 'x',\n",
       " '\\ue012',\n",
       " '.',\n",
       " '.',\n",
       " '\\ue012',\n",
       " '\\ue013',\n",
       " '\\ue015',\n",
       " '\\ue012',\n",
       " '\\ue012',\n",
       " '\\ue013',\n",
       " '\\ue014',\n",
       " '.',\n",
       " '.',\n",
       " '\\ue014',\n",
       " '\\ue014',\n",
       " '\\ue012',\n",
       " '\\ue012',\n",
       " '\\ue013',\n",
       " '\\ue012',\n",
       " '\\ue012',\n",
       " '\\ue015',\n",
       " '\\ue014',\n",
       " '\\ue012',\n",
       " '\\ue013',\n",
       " '\\ue012',\n",
       " '\\ue012',\n",
       " '\\ue012',\n",
       " '\\ue014',\n",
       " '\\ue012',\n",
       " '\\ue013',\n",
       " '\\ue013',\n",
       " '\\ue012',\n",
       " '\\ue012',\n",
       " '.',\n",
       " '\\ue014',\n",
       " '\\ue014',\n",
       " '\\ue013',\n",
       " '\\ue015',\n",
       " '\\ue014',\n",
       " '\\ue013',\n",
       " '\\ue013',\n",
       " '\\ue013',\n",
       " '\\ue015',\n",
       " '\\ue015',\n",
       " '\\ue013',\n",
       " '\\ue015',\n",
       " '\\ue013',\n",
       " '\\ue014',\n",
       " '\\ue013',\n",
       " '\\ue014',\n",
       " '\\ue013',\n",
       " '\\ue014',\n",
       " '\\ue014',\n",
       " '\\ue015',\n",
       " '\\ue014',\n",
       " '\\ue015']"
      ]
     },
     "execution_count": 210,
     "metadata": {},
     "output_type": "execute_result"
    }
   ],
   "source": [
    "random.choices(lm, costs, k=100)"
   ]
  },
  {
   "cell_type": "code",
   "execution_count": 209,
   "metadata": {
    "Collapsed": "false"
   },
   "outputs": [
    {
     "data": {
      "text/plain": [
       "True"
      ]
     },
     "execution_count": 209,
     "metadata": {},
     "output_type": "execute_result"
    }
   ],
   "source": [
    "'x' in random.choices(lm, costs, k=100)"
   ]
  },
  {
   "cell_type": "code",
   "execution_count": 139,
   "metadata": {
    "Collapsed": "false"
   },
   "outputs": [
    {
     "name": "stdout",
     "output_type": "stream",
     "text": [
      "-rw-r--r--   1 ewolfson  wheel   682K Aug 15 20:26 1.tsv\n",
      "-rw-r--r--   1 ewolfson  wheel   486K Aug 15 20:26 2.tsv\n",
      "-rw-r--r--   1 ewolfson  wheel   610K Aug 15 20:26 3.tsv\n",
      "-rw-r--r--   1 ewolfson  wheel   878K Aug 15 20:27 4.tsv\n",
      "-rw-r--r--   1 ewolfson  wheel   496K Aug 15 20:27 5.tsv\n",
      "-rw-r--r--@  1 ewolfson  wheel   422K Aug 15 20:31 6.tsv\n",
      "drwxrwxrwt   6 root      wheel   192B Aug 16 00:25 ..\n",
      "-rw-r--r--   1 ewolfson  wheel   1.6M Aug 16 00:41 game.tsv\n",
      "drwxr-xr-x  11 ewolfson  wheel   352B Aug 16 00:44 .\n",
      "-rw-r--r--   1 ewolfson  wheel   1.6M Aug 16 00:44 game.tsv.tar\n"
     ]
    }
   ],
   "source": [
    "! ls -lathr /tmp/wanderer | tail"
   ]
  },
  {
   "cell_type": "code",
   "execution_count": 138,
   "metadata": {
    "Collapsed": "false"
   },
   "outputs": [
    {
     "name": "stdout",
     "output_type": "stream",
     "text": [
      "tar: Removing leading '/' from member names\n"
     ]
    }
   ],
   "source": [
    "! tar -cf /tmp/wanderer/game.tsv.tar /tmp/wanderer/game.tsv"
   ]
  },
  {
   "cell_type": "code",
   "execution_count": 134,
   "metadata": {
    "Collapsed": "false"
   },
   "outputs": [
    {
     "name": "stdout",
     "output_type": "stream",
     "text": [
      "█\t█\t█\t&nbsp;\t█\t█\t█\t█\t█\t█\t█\t█\t&nbsp;\t█\t█\t█\t█\t█\t█\t█\t█\t█\t█\t█\t█\t█\t&nbsp;\t&nbsp;\t█\t&nbsp;\t█\t&nbsp;\t█\t█\t█\t&nbsp;\t&nbsp;\t█\t&nbsp;\t█\t█\t█\t█\t█\t█\t&nbsp;\t█\t&nbsp;\t█\t█\t█\t█\t█\t█\t&nbsp;\t█\t█\t&nbsp;\t█\t█\t&nbsp;\t█\t█\t█\t█\t&nbsp;\t█\t&nbsp;\t&nbsp;\t█\t█\t&nbsp;\t█\t█\t█\t&nbsp;\t█\t█\t&nbsp;\t█\t█\t█\t█\t█\t█\t█\t█\t&nbsp;\t█\t█\t█\t█\t█\t&nbsp;\t█\t█\t█\t█\t█\t█\t█\t█\t&nbsp;\t&nbsp;\t█\t&nbsp;\t&nbsp;\t█\t&nbsp;\t&nbsp;\t&nbsp;\t█\t&nbsp;\t&nbsp;\t█\t█\t&nbsp;\t█\t&nbsp;\t█\t&nbsp;\t&nbsp;\t&nbsp;\t&nbsp;\t&nbsp;\t&nbsp;\t█\t█\t█\t&nbsp;\t█\t&nbsp;\t&nbsp;\t&nbsp;\t█\t█\t&nbsp;\t&nbsp;\t█\t&nbsp;\t&nbsp;\t█\t&nbsp;\t█\t&nbsp;\t&nbsp;\t█\t&nbsp;\t&nbsp;\t█\t█\t█\t&nbsp;\t&nbsp;\t█\t&nbsp;\t█\t█\t&nbsp;\t,\t█\t&nbsp;\t█\t&nbsp;\t&nbsp;\t█\t█\t&nbsp;\t&nbsp;\t█\t█\t&nbsp;\t&nbsp;\t█\t&nbsp;\t█\t█\t&nbsp;\t&nbsp;\t█\t&nbsp;\t&nbsp;\t█\t&nbsp;\t&nbsp;\t&nbsp;\t█\t&nbsp;\t&nbsp;\t&nbsp;\t&nbsp;\t&nbsp;\t&nbsp;\t&nbsp;\t█\t&nbsp;\t&nbsp;\t&nbsp;\t&nbsp;\t█\t█\t█\t&nbsp;\t&nbsp;\t&nbsp;\t█\t█\t&nbsp;\t&nbsp;\t&nbsp;\t&nbsp;\t&nbsp;\t&nbsp;\t<t style=\"background-color:#1E90FF\">~</t>\t&nbsp;\t&nbsp;\t█\t█\t█\t&nbsp;\t&nbsp;\t&nbsp;\t&nbsp;\t&nbsp;\t&nbsp;\t█\t&nbsp;\t&nbsp;\t&nbsp;\t&nbsp;\t&nbsp;\t&nbsp;\t&nbsp;\t█\t&nbsp;\t&nbsp;\t█\t&nbsp;\t&nbsp;\t&nbsp;\t█\t&nbsp;\t█\t&nbsp;\t█\t&nbsp;\t█\t<t style=\"color:#85C1E9\">█</t>\t&nbsp;\t█\t&nbsp;\t█\t,\t█\t█\t&nbsp;\t&nbsp;\t&nbsp;\t&nbsp;\t&nbsp;\t&nbsp;\t█\t&nbsp;\t&nbsp;\t█\t&nbsp;\t&nbsp;\t█\t&nbsp;\t&nbsp;\t█\t&nbsp;\t&nbsp;\t█\t&nbsp;\t&nbsp;\t█\t&nbsp;\t&nbsp;\t?\t█\t&nbsp;\t█\t&nbsp;\t&nbsp;\t█\t█\t█\t█\t&nbsp;\t&nbsp;\t&nbsp;\t&nbsp;\t&nbsp;\t&nbsp;\t&nbsp;\t&nbsp;\t&nbsp;\t&nbsp;\t<t style=\"color:red; font-weight: 900;\">@</t>\t█\t█\t█\t&nbsp;\t█\t&nbsp;\t█\t█\t&nbsp;\t█\t&nbsp;\t█\t&nbsp;\t&nbsp;\t&nbsp;\t█\t&nbsp;\t&nbsp;\t&nbsp;\t█\t&nbsp;\t&nbsp;\t&nbsp;\t█\t&nbsp;\t&nbsp;\t█\t&nbsp;\t█\t&nbsp;\t&nbsp;\t<t style=\"color:#32CD32\">;</t>\t█\t█\t█\t&nbsp;\t█\t&nbsp;\t&nbsp;\t█\t&nbsp;\t&nbsp;\t&nbsp;\t&nbsp;\t&nbsp;\t&nbsp;\t&nbsp;\t&nbsp;\t<t style=\"color:#85C1E9\">█</t>\t&nbsp;\t█\t█\t█\t&nbsp;\t█\t&nbsp;\t&nbsp;\t&nbsp;\t&nbsp;\t█\t?\t&nbsp;\t█\t█\t█\t█\t█\t&nbsp;\t&nbsp;\t█\t&nbsp;\t█\t&nbsp;\t&nbsp;\t&nbsp;\t&nbsp;\t&nbsp;\t&nbsp;\t&nbsp;\t█\t█\t&nbsp;\t&nbsp;\t&nbsp;\t&nbsp;\t&nbsp;\t&nbsp;\t&nbsp;\t&nbsp;\t&nbsp;\t█\t█\t&nbsp;\t&nbsp;\t█\t&nbsp;\t█\t█\t█\t&nbsp;\t&nbsp;\t&nbsp;\t&nbsp;\t█\t&nbsp;\t&nbsp;\t█\t&nbsp;\t█\t&nbsp;\t█\t&nbsp;\t&nbsp;\t█\t&nbsp;\t&nbsp;\t&nbsp;\t&nbsp;\t&nbsp;\t█\t&nbsp;\t&nbsp;\t&nbsp;\t█\t&nbsp;\t&nbsp;\t&nbsp;\t&nbsp;\t&nbsp;\t&nbsp;\t█\t&nbsp;\t&nbsp;\t&nbsp;\t█\t█\t&nbsp;\t&nbsp;\t&nbsp;\t&nbsp;\t&nbsp;\t&nbsp;\t█\t&nbsp;\t█\t&nbsp;\t&nbsp;\t&nbsp;\t█\t&nbsp;\t█\t█\t&nbsp;\t█\t&nbsp;\t█\t&nbsp;\t█\t&nbsp;\t&nbsp;\t█\t&nbsp;\t█\t&nbsp;\t&nbsp;\t&nbsp;\t█\t&nbsp;\t&nbsp;\t&nbsp;\t&nbsp;\t█\t█\t&nbsp;\t&nbsp;\t&nbsp;\t█\t&nbsp;\t&nbsp;\t&nbsp;\t&nbsp;\t&nbsp;\t█\t&nbsp;\t█\t&nbsp;\t█\t^\t&nbsp;\t&nbsp;\t&nbsp;\t█\t█\t&nbsp;\t&nbsp;\t&nbsp;\t█\t█\t&nbsp;\t█\t█\t█\t&nbsp;\t█\t&nbsp;\t&nbsp;\t&nbsp;\t█\t&nbsp;\t█\t█\t&nbsp;\t&nbsp;\t&nbsp;\t&nbsp;\t&nbsp;\t&nbsp;\t&nbsp;\t&nbsp;\t█\t█\t&nbsp;\t&nbsp;\t&nbsp;\t&nbsp;\t&nbsp;\t&nbsp;\t&nbsp;\t&nbsp;\t&nbsp;\t&nbsp;\t&nbsp;\t&nbsp;\t&nbsp;\t&nbsp;\t█\t█\t&nbsp;\t█\t&nbsp;\t&nbsp;\t&nbsp;\t&nbsp;\t█\t█\t&nbsp;\t&nbsp;\t&nbsp;\t$\t█\t█\t█\t&nbsp;\t&nbsp;\t&nbsp;\t&nbsp;\t&nbsp;\t&nbsp;\t█\t█\t&nbsp;\t&nbsp;\t&nbsp;\t&nbsp;\t█\t█\t█\t&nbsp;\t&nbsp;\t&nbsp;\t&nbsp;\t&nbsp;\t█\t&nbsp;\t&nbsp;\t&nbsp;\t&nbsp;\t█\t&nbsp;\t█\t█\t&nbsp;\t&nbsp;\t&nbsp;\t█\t&nbsp;\t&nbsp;\t█\t&nbsp;\t&nbsp;\t&nbsp;\t&nbsp;\t█\t&nbsp;\t█\t█\t&nbsp;\t&nbsp;\t&nbsp;\t&nbsp;\t█\t█\t&nbsp;\t█\t&nbsp;\t█\t█\t█\t█\t&nbsp;\t█\t&nbsp;\t&nbsp;\t█\t█\t&nbsp;\t&nbsp;\t&nbsp;\t█\t█\t&nbsp;\t&nbsp;\t█\t&nbsp;\t█\t&nbsp;\t&nbsp;\t█\t&nbsp;\t█\t&nbsp;\t█\t&nbsp;\t&nbsp;\t&nbsp;\t&nbsp;\t█\t&nbsp;\t█\t█\t&nbsp;\t█\t█\t█\t&nbsp;\t<t style=\"background-color:#1E90FF\">~</t>\t<t style=\"color:#32CD32\">!</t>\t&nbsp;\t█\t█\t&nbsp;\t█\t█\t&nbsp;\t&nbsp;\t&nbsp;\t&nbsp;\t&nbsp;\t&nbsp;\t&nbsp;\t█\t&nbsp;\t&nbsp;\t&nbsp;\t█\t&nbsp;\t&nbsp;\t&nbsp;\t█\t&nbsp;\t&nbsp;\t&nbsp;\t&nbsp;\t&nbsp;\t&nbsp;\t█\t&nbsp;\t█\t&nbsp;\t█\t&nbsp;\t&nbsp;\t█\t&nbsp;\t<t style=\"color:#32CD32\">;</t>\t&nbsp;\t█\t&nbsp;\t&nbsp;\t<t style=\"color:#32CD32\">!</t>\t&nbsp;\t&nbsp;\t&nbsp;\t█\t&nbsp;\t█\t&nbsp;\t&nbsp;\t&nbsp;\t█\t█\t&nbsp;\t█\t█\t<t style=\"background-color:#FF4500\">~</t>\t<t style=\"background-color:#FF4500\">~</t>\t<t style=\"background-color:#FF4500\">~</t>\t<t style=\"background-color:#FF4500\">~</t>\t█\t&nbsp;\t█\t&nbsp;\t&nbsp;\t&nbsp;\t&nbsp;\t&nbsp;\t&nbsp;\t&nbsp;\t<t style=\"color:#32CD32\">;</t>\t█\t&nbsp;\t&nbsp;\t█\t&nbsp;\t█\t&nbsp;\t&nbsp;\t&nbsp;\t&nbsp;\t&nbsp;\t&nbsp;\t&nbsp;\t&nbsp;\t&nbsp;\t&nbsp;\t█\t&nbsp;\t&nbsp;\t█\t<t style=\"background-color:#1E90FF\">~</t>\t&nbsp;\t&nbsp;\t&nbsp;\t&nbsp;\t&nbsp;\t&nbsp;\t█\t&nbsp;\t&nbsp;\t&nbsp;\t█\t&nbsp;\t&nbsp;\t<t style=\"background-color:#FF4500\">~</t>\t<t style=\"background-color:#FF4500\">~</t>\t,\t,\t,\t<t style=\"background-color:#FF4500\">~</t>\t&nbsp;\t&nbsp;\t&nbsp;\t&nbsp;\t&nbsp;\t&nbsp;\t&nbsp;\t&nbsp;\t&nbsp;\t&nbsp;\t&nbsp;\t█\t█\t&nbsp;\t&nbsp;\t&nbsp;\t&nbsp;\t&nbsp;\t&nbsp;\t&nbsp;\t&nbsp;\t&nbsp;\t&nbsp;\t&nbsp;\t&nbsp;\t&nbsp;\t&nbsp;\t&nbsp;\t█\t&nbsp;\t&nbsp;\t&nbsp;\t&nbsp;\t&nbsp;\t&nbsp;\t&nbsp;\t?\t&nbsp;\t&nbsp;\t█\t█\t█\t&nbsp;\t█\t<t style=\"background-color:#FF4500\">~</t>\t,\t,\t<t style=\"color:#800080\">§</t>\t,\t,\t<t style=\"background-color:#FF4500\">~</t>\t&nbsp;\t█\t█\t█\t&nbsp;\t&nbsp;\t█\t█\t&nbsp;\t&nbsp;\t&nbsp;\t█\t&nbsp;\t&nbsp;\t█\t█\t&nbsp;\t&nbsp;\t&nbsp;\t█\t█\t,\t&nbsp;\t&nbsp;\t█\t&nbsp;\t&nbsp;\t&nbsp;\t&nbsp;\t█\t&nbsp;\t&nbsp;\t&nbsp;\t&nbsp;\t&nbsp;\t█\t&nbsp;\t&nbsp;\t█\t█\t█\t█\t█\t<t style=\"background-color:#FF4500\">~</t>\t,\t,\t,\t,\t,\t<t style=\"background-color:#FF4500\">~</t>\t&nbsp;\t█\t&nbsp;\t&nbsp;\t&nbsp;\t&nbsp;\t&nbsp;\t█\t&nbsp;\t&nbsp;\t&nbsp;\t&nbsp;\t&nbsp;\t█\t&nbsp;\t&nbsp;\t&nbsp;\t&nbsp;\t&nbsp;\t█\t&nbsp;\t&nbsp;\t&nbsp;\t&nbsp;\t&nbsp;\t&nbsp;\t&nbsp;\t&nbsp;\t█\t&nbsp;\t&nbsp;\t&nbsp;\t█\t█\t█\t&nbsp;\t&nbsp;\t█\t&nbsp;\t█\t█\t█\t&nbsp;\t<t style=\"background-color:#FF4500\">~</t>\t<t style=\"background-color:#FF4500\">~</t>\t,\t,\t,\t<t style=\"background-color:#FF4500\">~</t>\t<t style=\"background-color:#FF4500\">~</t>\t█\t&nbsp;\t&nbsp;\t&nbsp;\t&nbsp;\t&nbsp;\t█\t&nbsp;\t&nbsp;\t█\t&nbsp;\t&nbsp;\t&nbsp;\t&nbsp;\t&nbsp;\t&nbsp;\t█\t█\t&nbsp;\t█\t&nbsp;\t&nbsp;\t&nbsp;\t█\t&nbsp;\t&nbsp;\t&nbsp;\t&nbsp;\t&nbsp;\t^\t█\t&nbsp;\t&nbsp;\t&nbsp;\t&nbsp;\t&nbsp;\t<t style=\"color:#32CD32\">;</t>\t█\t&nbsp;\t█\t█\t█\t█\t&nbsp;\t<t style=\"background-color:#FF4500\">~</t>\t<t style=\"background-color:#FF4500\">~</t>\t.\t<t style=\"background-color:#FF4500\">~</t>\t<t style=\"background-color:#FF4500\">~</t>\t&nbsp;\t&nbsp;\t&nbsp;\t&nbsp;\t&nbsp;\t█\t&nbsp;\t█\t&nbsp;\t█\t&nbsp;\t█\t&nbsp;\t█\t█\t&nbsp;\t&nbsp;\t&nbsp;\t█\t█\t&nbsp;\t█\t█\t&nbsp;\t&nbsp;\t&nbsp;\t&nbsp;\t&nbsp;\t&nbsp;\t&nbsp;\t&nbsp;\t&nbsp;\t&nbsp;\t&nbsp;\t&nbsp;\t&nbsp;\t█\t█\t&nbsp;\t█\t█\t█\t█\t&nbsp;\t&nbsp;\t&nbsp;\t&nbsp;\t&nbsp;\t&nbsp;\t&nbsp;\t█\t,\t&nbsp;\t█\t█\t█\t&nbsp;\t█\t&nbsp;\t█\t<t style=\"color:#32CD32\">;</t>\t&nbsp;\t&nbsp;\t█\t█\t&nbsp;\t█\t&nbsp;\t&nbsp;\t&nbsp;\t&nbsp;\t&nbsp;\t&nbsp;\t█\t&nbsp;\t&nbsp;\t&nbsp;\t&nbsp;\t&nbsp;\t&nbsp;\t&nbsp;\t█\t█\t&nbsp;\t&nbsp;\t&nbsp;\t&nbsp;\t&nbsp;\t&nbsp;\t&nbsp;\t█\t█\t█\t&nbsp;\t$\t&nbsp;\t&nbsp;\t&nbsp;\t&nbsp;\t&nbsp;\t&nbsp;\t&nbsp;\t&nbsp;\t█\t&nbsp;\t█\t&nbsp;\t&nbsp;\t&nbsp;\t&nbsp;\t&nbsp;\t&nbsp;\t&nbsp;\t&nbsp;\t&nbsp;\t█\t&nbsp;\t&nbsp;\t&nbsp;\t&nbsp;\t&nbsp;\t&nbsp;\t█\t█\t&nbsp;\t&nbsp;\t█\t█\t█\t<t style=\"background-color:#1E90FF\">~</t>\t&nbsp;\t&nbsp;\t&nbsp;\t&nbsp;\t&nbsp;\t&nbsp;\t.\t<t style=\"color:#DC143C\">!</t>\t&nbsp;\t&nbsp;\t█\t█\t█\t&nbsp;\t&nbsp;\t&nbsp;\t^\t&nbsp;\t█\t&nbsp;\t█\t&nbsp;\t&nbsp;\t█\t&nbsp;\t&nbsp;\t&nbsp;\t█\t&nbsp;\t&nbsp;\t&nbsp;\t█\t█\t█\t&nbsp;\t&nbsp;\t&nbsp;\t█\t&nbsp;\t&nbsp;\t&nbsp;\t&nbsp;\t$\t&nbsp;\t&nbsp;\t&nbsp;\t&nbsp;\t&nbsp;\t&nbsp;\t█\t█\t&nbsp;\t&nbsp;\t&nbsp;\t&nbsp;\t&nbsp;\t&nbsp;\t&nbsp;\t&nbsp;\t█\t█\t█\t█\t&nbsp;\t&nbsp;\t&nbsp;\t&nbsp;\t&nbsp;\t&nbsp;\t&nbsp;\t█\t&nbsp;\t&nbsp;\t&nbsp;\t&nbsp;\t&nbsp;\t█\t&nbsp;\t█\t█\t?\t&nbsp;\t&nbsp;\t&nbsp;\t&nbsp;\t&nbsp;\t&nbsp;\t&nbsp;\t&nbsp;\t█\t█\t&nbsp;\t&nbsp;\t&nbsp;\t&nbsp;\t&nbsp;\t&nbsp;\t&nbsp;\t&nbsp;\t█\t&nbsp;\t&nbsp;\t&nbsp;\t&nbsp;\t&nbsp;\t&nbsp;\t█\t&nbsp;\t&nbsp;\t&nbsp;\t█\t&nbsp;\t█\t&nbsp;\t█\t&nbsp;\t&nbsp;\t&nbsp;\t&nbsp;\t█\t&nbsp;\t█\t&nbsp;\t^\t&nbsp;\t&nbsp;\t█\t&nbsp;\t&nbsp;\t&nbsp;\t█\t&nbsp;\t█\t&nbsp;\t&nbsp;\t█\t█\t█\t&nbsp;\t&nbsp;\t█\t&nbsp;\t█\t&nbsp;\t&nbsp;\t&nbsp;\t&nbsp;\t&nbsp;\t&nbsp;\t█\t█\t█\t&nbsp;\t&nbsp;\t&nbsp;\t&nbsp;\t&nbsp;\t█\t&nbsp;\t&nbsp;\t█\t█\t█\t&nbsp;\t&nbsp;\t&nbsp;\t█\t█\t█\t█\t&nbsp;\t&nbsp;\t█\t&nbsp;\t&nbsp;\t&nbsp;\t█\t&nbsp;\t&nbsp;\t&nbsp;\t█\t&nbsp;\t&nbsp;\t&nbsp;\t&nbsp;\t&nbsp;\t&nbsp;\t&nbsp;\t&nbsp;\t█\t█\t&nbsp;\t█\t&nbsp;\t&nbsp;\t&nbsp;\t&nbsp;\t&nbsp;\t█\t?\t&nbsp;\t&nbsp;\t█\t&nbsp;\t█\t&nbsp;\t&nbsp;\t&nbsp;\t,\t&nbsp;\t█\t<t style=\"background-color:#1E90FF\">~</t>\t<t style=\"background-color:#1E90FF\">~</t>\t<t style=\"background-color:#1E90FF\">~</t>\t█\t&nbsp;\t&nbsp;\t&nbsp;\t█\t&nbsp;\t&nbsp;\t█\t&nbsp;\t&nbsp;\t&nbsp;\t&nbsp;\t&nbsp;\t&nbsp;\t&nbsp;\t█\t&nbsp;\t&nbsp;\t&nbsp;\t█\t█\t&nbsp;\t&nbsp;\t&nbsp;\t&nbsp;\t█\t&nbsp;\t&nbsp;\t&nbsp;\t█\t&nbsp;\t&nbsp;\t&nbsp;\t█\t&nbsp;\t&nbsp;\t&nbsp;\t&nbsp;\t&nbsp;\t<t style=\"color:#32CD32\">;</t>\t&nbsp;\t█\t&nbsp;\t&nbsp;\t&nbsp;\t&nbsp;\t&nbsp;\t<t style=\"background-color:#1E90FF\">~</t>\t<t style=\"background-color:#1E90FF\">~</t>\t<t style=\"background-color:#1E90FF\">~</t>\t<t style=\"background-color:#1E90FF\">~</t>\t&nbsp;\t█\t&nbsp;\t&nbsp;\t&nbsp;\t&nbsp;\t&nbsp;\t█\t█\t&nbsp;\t&nbsp;\t&nbsp;\t&nbsp;\t&nbsp;\t&nbsp;\t█\t█\t█\t&nbsp;\t&nbsp;\t█\t█\t&nbsp;\t█\t&nbsp;\t&nbsp;\t█\t&nbsp;\t&nbsp;\t&nbsp;\t&nbsp;\t&nbsp;\t&nbsp;\t&nbsp;\t&nbsp;\t█\t█\t&nbsp;\t&nbsp;\t&nbsp;\t&nbsp;\t&nbsp;\t█\t█\t█\t&nbsp;\t█\t█\t&nbsp;\t<t style=\"background-color:#1E90FF\">~</t>\t<t style=\"background-color:#1E90FF\">~</t>\t█\t█\t&nbsp;\t&nbsp;\t&nbsp;\t<t style=\"background-color:#1E90FF\">~</t>\t&nbsp;\t&nbsp;\t&nbsp;\t█\t█\t&nbsp;\t█\t&nbsp;\t&nbsp;\t&nbsp;\t&nbsp;\t&nbsp;\t&nbsp;\t█\t&nbsp;\t█\t&nbsp;\t█\t&nbsp;\t&nbsp;\t&nbsp;\t&nbsp;\t&nbsp;\t█\t█\t&nbsp;\t&nbsp;\t&nbsp;\t█\t&nbsp;\t&nbsp;\t&nbsp;\t&nbsp;\t&nbsp;\t&nbsp;\t&nbsp;\t&nbsp;\t█\t█\t&nbsp;\t█\t&nbsp;\t&nbsp;\t<t style=\"background-color:#1E90FF\">~</t>\t<t style=\"background-color:#1E90FF\">~</t>\t&nbsp;\t█\t&nbsp;\t<t style=\"background-color:#1E90FF\">~</t>\t<t style=\"background-color:#1E90FF\">~</t>\t<t style=\"background-color:#1E90FF\">~</t>\t█\t█\t&nbsp;\t&nbsp;\t&nbsp;\t█\t█\t&nbsp;\t&nbsp;\t&nbsp;\t&nbsp;\t&nbsp;\t&nbsp;\t&nbsp;\t&nbsp;\t█\t█\t&nbsp;\t&nbsp;\t&nbsp;\t█\t&nbsp;\t&nbsp;\t&nbsp;\t&nbsp;\t&nbsp;\t&nbsp;\t█\t&nbsp;\t&nbsp;\t?\t&nbsp;\t&nbsp;\t█\t█\t&nbsp;\t█\t█\t█\t&nbsp;\t&nbsp;\t&nbsp;\t█\t<t style=\"background-color:#1E90FF\">~</t>\t<t style=\"background-color:#1E90FF\">~</t>\t&nbsp;\t<t style=\"background-color:#1E90FF\">~</t>\t<t style=\"background-color:#1E90FF\">~</t>\t&nbsp;\t<t style=\"background-color:#1E90FF\">~</t>\t<t style=\"background-color:#1E90FF\">~</t>\t&nbsp;\t█\t&nbsp;\t█\t&nbsp;\t&nbsp;\t█\t&nbsp;\t&nbsp;\t&nbsp;\t&nbsp;\t&nbsp;\t&nbsp;\t&nbsp;\t&nbsp;\t&nbsp;\t&nbsp;\t&nbsp;\t&nbsp;\t&nbsp;\t█\t&nbsp;\t&nbsp;\t&nbsp;\t&nbsp;\t█\t&nbsp;\t&nbsp;\t█\t&nbsp;\t&nbsp;\t&nbsp;\t&nbsp;\t&nbsp;\t█\t&nbsp;\t█\t█\t█\t█\t█\t&nbsp;\t&nbsp;\t<t style=\"background-color:#1E90FF\">~</t>\t<t style=\"background-color:#1E90FF\">~</t>\t<t style=\"background-color:#1E90FF\">~</t>\t&nbsp;\t&nbsp;\t?\t<t style=\"background-color:#1E90FF\">~</t>\t<t style=\"background-color:#1E90FF\">~</t>\t&nbsp;\t&nbsp;\t█\t&nbsp;\t&nbsp;\t&nbsp;\t&nbsp;\t&nbsp;\t&nbsp;\t█\t&nbsp;\t&nbsp;\t█\t&nbsp;\t&nbsp;\t█\t&nbsp;\t&nbsp;\t█\t&nbsp;\t&nbsp;\t█\t█\t&nbsp;\t█\t█\t&nbsp;\t&nbsp;\t█\t&nbsp;\t&nbsp;\t&nbsp;\t&nbsp;\t&nbsp;\t&nbsp;\t█\t█\t&nbsp;\t&nbsp;\t&nbsp;\t█\t█\t&nbsp;\t<t style=\"background-color:#1E90FF\">~</t>\t&nbsp;\t&nbsp;\t^\t█\t&nbsp;\t<t style=\"background-color:#1E90FF\">~</t>\t<t style=\"background-color:#1E90FF\">~</t>\t&nbsp;\t&nbsp;\t<t style=\"background-color:#1E90FF\">~</t>\t&nbsp;\t&nbsp;\t&nbsp;\t&nbsp;\t&nbsp;\t█\t&nbsp;\t&nbsp;\t&nbsp;\t&nbsp;\t█\t&nbsp;\t&nbsp;\t&nbsp;\t&nbsp;\t&nbsp;\t&nbsp;\t&nbsp;\t&nbsp;\t█\t█\t█\t$\t█\t&nbsp;\t&nbsp;\t█\t&nbsp;\t&nbsp;\t█\t&nbsp;\t█\t█\t█\t&nbsp;\t&nbsp;\t&nbsp;\t&nbsp;\t&nbsp;\t&nbsp;\t&nbsp;\t█\t&nbsp;\t&nbsp;\t&nbsp;\t&nbsp;\t<t style=\"background-color:#1E90FF\">~</t>\t<t style=\"background-color:#1E90FF\">~</t>\t<t style=\"background-color:#1E90FF\">~</t>\t<t style=\"background-color:#1E90FF\">~</t>\t<t style=\"background-color:#1E90FF\">~</t>\t&nbsp;\t&nbsp;\t<t style=\"background-color:#1E90FF\">~</t>\t&nbsp;\t█\t█\t&nbsp;\t&nbsp;\t&nbsp;\t█\t&nbsp;\t&nbsp;\t&nbsp;\t&nbsp;\t&nbsp;\t&nbsp;\t&nbsp;\t&nbsp;\t&nbsp;\t&nbsp;\t█\t&nbsp;\t&nbsp;\t&nbsp;\t&nbsp;\t&nbsp;\t█\t&nbsp;\t█\t&nbsp;\t<t style=\"background-color:#1E90FF\">~</t>\t█\t<t style=\"background-color:#1E90FF\">~</t>\t█\t█\t&nbsp;\t█\t&nbsp;\t&nbsp;\t&nbsp;\t&nbsp;\t&nbsp;\t&nbsp;\t&nbsp;\t^\t&nbsp;\t<t style=\"background-color:#1E90FF\">~</t>\t<t style=\"background-color:#1E90FF\">~</t>\t&nbsp;\t<t style=\"background-color:#1E90FF\">~</t>\t<t style=\"background-color:#1E90FF\">~</t>\t<t style=\"background-color:#1E90FF\">~</t>\t<t style=\"background-color:#1E90FF\">~</t>\t<t style=\"background-color:#1E90FF\">~</t>\t&nbsp;\t&nbsp;\t&nbsp;\t█\t&nbsp;\t<t style=\"background-color:#1E90FF\">~</t>\t&nbsp;\t█\t█\t&nbsp;\t&nbsp;\t█\t&nbsp;\t&nbsp;\t^\t█\t&nbsp;\t█\t&nbsp;\t&nbsp;\t<t style=\"background-color:#1E90FF\">~</t>\t<t style=\"background-color:#1E90FF\">~</t>\t<t style=\"background-color:#1E90FF\">~</t>\t<t style=\"background-color:#1E90FF\">~</t>\t&nbsp;\t<t style=\"background-color:#1E90FF\">~</t>\t<t style=\"background-color:#1E90FF\">~</t>\t█\t█\t&nbsp;\t&nbsp;\t&nbsp;\t&nbsp;\t&nbsp;\t&nbsp;\t█\t&nbsp;\t&nbsp;\t&nbsp;\t&nbsp;\t█\t█\t&nbsp;\t&nbsp;\t&nbsp;\t&nbsp;\t<t style=\"background-color:#1E90FF\">~</t>\t<t style=\"background-color:#1E90FF\">~</t>\t&nbsp;\t<t style=\"background-color:#1E90FF\">~</t>\t<t style=\"background-color:#1E90FF\">~</t>\t█\t&nbsp;\t&nbsp;\t<t style=\"background-color:#1E90FF\">~</t>\t<t style=\"background-color:#1E90FF\">~</t>\t<t style=\"background-color:#1E90FF\">~</t>\t<t style=\"background-color:#1E90FF\">~</t>\t&nbsp;\t&nbsp;\t&nbsp;\t&nbsp;\t&nbsp;\t&nbsp;\t█\t&nbsp;\t█\t█\t<t style=\"background-color:#1E90FF\">~</t>\t<t style=\"background-color:#1E90FF\">~</t>\t<t style=\"background-color:#1E90FF\">~</t>\t<t style=\"background-color:#1E90FF\">~</t>\t<t style=\"background-color:#1E90FF\">~</t>\t<t style=\"background-color:#1E90FF\">~</t>\t<t style=\"background-color:#1E90FF\">~</t>\t<t style=\"background-color:#1E90FF\">~</t>\t█\t█\t█\t&nbsp;\t█\t&nbsp;\t<t style=\"color:#32CD32\">;</t>\t&nbsp;\t&nbsp;\t?\t<t style=\"background-color:#1E90FF\">~</t>\t&nbsp;\t&nbsp;\t&nbsp;\t&nbsp;\t^\t&nbsp;\t&nbsp;\t&nbsp;\t█\t█\t&nbsp;\t&nbsp;\t&nbsp;\t<t style=\"background-color:#1E90FF\">~</t>\t<t style=\"background-color:#1E90FF\">~</t>\t&nbsp;\t<t style=\"background-color:#1E90FF\">~</t>\t<t style=\"background-color:#1E90FF\">~</t>\t&nbsp;\t<t style=\"background-color:#1E90FF\">~</t>\t<t style=\"background-color:#1E90FF\">~</t>\t<t style=\"background-color:#1E90FF\">~</t>\t&nbsp;\t&nbsp;\t&nbsp;\t<t style=\"background-color:#1E90FF\">~</t>\t&nbsp;\t&nbsp;\t&nbsp;\t&nbsp;\t<t style=\"background-color:#1E90FF\">~</t>\t<t style=\"background-color:#1E90FF\">~</t>\t<t style=\"background-color:#1E90FF\">~</t>\t█\t&nbsp;\t&nbsp;\t█\t<t style=\"background-color:#1E90FF\">~</t>\t&nbsp;\t█\t█\t█\t█\t&nbsp;\t&nbsp;\t$\t&nbsp;\t&nbsp;\t█\t&nbsp;\t█\t&nbsp;\t&nbsp;\t&nbsp;\t&nbsp;\t&nbsp;\t█\t&nbsp;\t&nbsp;\t█\t&nbsp;\t█\t&nbsp;\t&nbsp;\t<t style=\"background-color:#1E90FF\">~</t>\t<t style=\"background-color:#1E90FF\">~</t>\t<t style=\"background-color:#1E90FF\">~</t>\t&nbsp;\t█\t&nbsp;\t&nbsp;\t<t style=\"background-color:#1E90FF\">~</t>\t<t style=\"background-color:#1E90FF\">~</t>\t█\t&nbsp;\t█\t&nbsp;\t&nbsp;\t&nbsp;\t<t style=\"background-color:#1E90FF\">~</t>\t<t style=\"background-color:#1E90FF\">~</t>\t&nbsp;\t&nbsp;\t█\t&nbsp;\t&nbsp;\t█\t&nbsp;\t&nbsp;\t█\t&nbsp;\t█\t&nbsp;\t&nbsp;\t&nbsp;\t&nbsp;\t&nbsp;\t&nbsp;\t&nbsp;\t&nbsp;\t&nbsp;\t█\t&nbsp;\t&nbsp;\t&nbsp;\t&nbsp;\t█\t&nbsp;\t&nbsp;\t█\t&nbsp;\t&nbsp;\t&nbsp;\t█\t█\t<t style=\"background-color:#1E90FF\">~</t>\t&nbsp;\t&nbsp;\t█\t&nbsp;\t█\t&nbsp;\t<t style=\"background-color:#1E90FF\">~</t>\t<t style=\"background-color:#1E90FF\">~</t>\t<t style=\"background-color:#1E90FF\">~</t>\t█\t█\t&nbsp;\t<t style=\"background-color:#1E90FF\">~</t>\t<t style=\"background-color:#1E90FF\">~</t>\t&nbsp;\t&nbsp;\t&nbsp;\t&nbsp;\t&nbsp;\t&nbsp;\t&nbsp;\t&nbsp;\t&nbsp;\t█\t█\t█\t&nbsp;\t&nbsp;\t&nbsp;\t&nbsp;\t&nbsp;\t█\t&nbsp;\t&nbsp;\t&nbsp;\t█\t&nbsp;\t&nbsp;\t█\t.\t&nbsp;\t&nbsp;\t█\t█\t&nbsp;\t█\t,\t&nbsp;\t█\t█\t&nbsp;\t&nbsp;\t█\t&nbsp;\t&nbsp;\t█\t&nbsp;\t<t style=\"background-color:#1E90FF\">~</t>\t<t style=\"background-color:#1E90FF\">~</t>\t<t style=\"background-color:#1E90FF\">~</t>\t<t style=\"background-color:#1E90FF\">~</t>\t<t style=\"background-color:#1E90FF\">~</t>\t<t style=\"background-color:#1E90FF\">~</t>\t&nbsp;\t&nbsp;\t█\t&nbsp;\t&nbsp;\t&nbsp;\t█\t&nbsp;\t&nbsp;\t█\t█\t&nbsp;\t█\t<t style=\"color:#32CD32\">!</t>\t&nbsp;\t&nbsp;\t█\t&nbsp;\t█\t&nbsp;\t&nbsp;\t&nbsp;\t&nbsp;\t█\t&nbsp;\t&nbsp;\t&nbsp;\t&nbsp;\t█\t&nbsp;\t&nbsp;\t&nbsp;\t&nbsp;\t&nbsp;\t&nbsp;\t&nbsp;\t&nbsp;\t&nbsp;\t&nbsp;\t&nbsp;\t&nbsp;\t&nbsp;\t&nbsp;\t█\t&nbsp;\t&nbsp;\t<t style=\"background-color:#1E90FF\">~</t>\t<t style=\"background-color:#1E90FF\">~</t>\t<t style=\"background-color:#1E90FF\">~</t>\t&nbsp;\t█\t&nbsp;\t&nbsp;\t█\t&nbsp;\t█\t&nbsp;\t&nbsp;\t█\t&nbsp;\t█\t█\t█\t█\t&nbsp;\t&nbsp;\t█\t&nbsp;\t&nbsp;\t█\t&nbsp;\t█\t&nbsp;\t&nbsp;\t&nbsp;\t█\t&nbsp;\t█\t&nbsp;\t&nbsp;\t█\t.\t&nbsp;\t&nbsp;\t&nbsp;\t^\t&nbsp;\t█\t&nbsp;\t&nbsp;\t█\t&nbsp;\t█\t&nbsp;\t&nbsp;\t&nbsp;\t&nbsp;\t&nbsp;\t&nbsp;\t&nbsp;\t█\t█\t&nbsp;\t█\t&nbsp;\t&nbsp;\t&nbsp;\t^\t&nbsp;\t█\t█\t█\t█\t&nbsp;\t&nbsp;\t█\t&nbsp;\t&nbsp;\t&nbsp;\t&nbsp;\t&nbsp;\t&nbsp;\t&nbsp;\t&nbsp;\t&nbsp;\t█\t█\t█\t█\t█\t█\t&nbsp;\t█\t&nbsp;\t█\t█\t&nbsp;\t&nbsp;\t&nbsp;\t&nbsp;\t&nbsp;\t█\t&nbsp;\t█\t█\t█\t&nbsp;\t&nbsp;\t&nbsp;\t&nbsp;\t&nbsp;\t█\t&nbsp;\t█\t█\t█\t█\t^\t&nbsp;\t&nbsp;\t█\t█\t█\t█\t█\t&nbsp;\t^\t&nbsp;\t&nbsp;\t&nbsp;\t&nbsp;\t&nbsp;\t&nbsp;\t&nbsp;\t█\t&nbsp;\t█\t█\t&nbsp;\t&nbsp;\t&nbsp;\t&nbsp;\t█\t&nbsp;\t█\t&nbsp;\t<t style=\"background-color:#1E90FF\">~</t>\t&nbsp;\t&nbsp;\t█\t█\t&nbsp;\t&nbsp;\t&nbsp;\t&nbsp;\t█\t&nbsp;\t█\t&nbsp;\t&nbsp;\t&nbsp;\t&nbsp;\t&nbsp;\t&nbsp;\t&nbsp;\t&nbsp;\t&nbsp;\t&nbsp;\t&nbsp;\t█\t█\t█\t█\t█\t█\t&nbsp;\t&nbsp;\t█\t█\t&nbsp;\t&nbsp;\t&nbsp;\t&nbsp;\t█\t&nbsp;\t█\t&nbsp;\t&nbsp;\t&nbsp;\t&nbsp;\t&nbsp;\t█\t&nbsp;\t&nbsp;\t&nbsp;\t&nbsp;\t&nbsp;\t&nbsp;\t&nbsp;\t&nbsp;\t&nbsp;\t&nbsp;\t&nbsp;\t&nbsp;\t█\t&nbsp;\t&nbsp;\t█\t&nbsp;\t&nbsp;\t█\t&nbsp;\t&nbsp;\t█\t█\t█\t&nbsp;\t&nbsp;\t█\t█\t█\t█\t█\t&nbsp;\t&nbsp;\t&nbsp;\t&nbsp;\t&nbsp;\t&nbsp;\t&nbsp;\t█\t&nbsp;\t&nbsp;\t█\t█\t&nbsp;\t█\t&nbsp;\t&nbsp;\t█\t&nbsp;\t&nbsp;\t&nbsp;\t,\t&nbsp;\t█\t&nbsp;\t&nbsp;\t&nbsp;\t&nbsp;\t&nbsp;\t&nbsp;\t&nbsp;\t&nbsp;\t&nbsp;\t&nbsp;\t&nbsp;\t█\t&nbsp;\t█\t&nbsp;\t█\t&nbsp;\t,\t█\t█\t&nbsp;\t&nbsp;\t&nbsp;\t&nbsp;\t█\t█\t&nbsp;\t&nbsp;\t█\t&nbsp;\t&nbsp;\t█\t&nbsp;\t&nbsp;\t&nbsp;\t&nbsp;\t?\t&nbsp;\t&nbsp;\t&nbsp;\t&nbsp;\t&nbsp;\t█\t&nbsp;\t&nbsp;\t█\t█\t&nbsp;\t&nbsp;\t&nbsp;\t.\t&nbsp;\t&nbsp;\t█\t<t style=\"color:#32CD32\">!</t>\t&nbsp;\t&nbsp;\t&nbsp;\t&nbsp;\t█\t^\t█\t&nbsp;\t&nbsp;\t&nbsp;\t&nbsp;\t█\t&nbsp;\t█\t&nbsp;\t&nbsp;\t█\t&nbsp;\t&nbsp;\t&nbsp;\t█\t█\t█\t&nbsp;\t█\t&nbsp;\t█\t&nbsp;\t&nbsp;\t&nbsp;\t&nbsp;\t&nbsp;\t█\t█\t&nbsp;\t█\t&nbsp;\t█\t&nbsp;\t&nbsp;\t&nbsp;\t&nbsp;\t&nbsp;\t█\t&nbsp;\t&nbsp;\t█\t&nbsp;\t&nbsp;\t&nbsp;\t&nbsp;\t&nbsp;\t&nbsp;\t&nbsp;\t█\t&nbsp;\t&nbsp;\t&nbsp;\t&nbsp;\t&nbsp;\t&nbsp;\t█\t&nbsp;\t█\t&nbsp;\t&nbsp;\t█\t&nbsp;\t█\t█\t&nbsp;\t█\t█\t█\t█\t█\t&nbsp;\t&nbsp;\t&nbsp;\t&nbsp;\t&nbsp;\t█\t&nbsp;\t&nbsp;\t█\t█\t█\t&nbsp;\t&nbsp;\t&nbsp;\t&nbsp;\t█\t█\t&nbsp;\t█\t&nbsp;\t&nbsp;\t█\t&nbsp;\t█\t&nbsp;\t&nbsp;\t&nbsp;\t█\t&nbsp;\t&nbsp;\t█\t█\t&nbsp;\t&nbsp;\t█\t&nbsp;\t&nbsp;\t&nbsp;\t&nbsp;\t&nbsp;\t&nbsp;\t&nbsp;\t█\t█\t█\t█\t█\t█\t&nbsp;\t█\t█\t█\t&nbsp;\t█\t█\t&nbsp;\t█\t█\t█\t&nbsp;\t█\t&nbsp;\t█\t█\t&nbsp;\t█\t█\t█\t█\t█\t█\t█\t█\t█\t&nbsp;\t█\t&nbsp;\t█\t█\t█\t█\t█\t█\t&nbsp;\t█\t█\t&nbsp;\t&nbsp;\t&nbsp;\t&nbsp;\t█\t█\t█\t█<t style=\"color:#15f6f1\">Terry Endure</t> - <t style=\"color:#4a5f76\">Atlantis</t>\tSelf: <t style=\"color:#FF0000; font-weight: bold;\">faded</t> - Visited: 1 - Keys: 0 - Kills: 0\tWeapon: Staff of <t style=\"color:#85C1E9\">Se</t><t style=\"background-color:#85C1E9; color:#FFFFFF;\">c</t><t style=\"color:#85C1E9\">ret</t> Paths<br>Armour: <t style=\"color:#228B22\">Green Tunic</t> - Defense: 0\t\tYou fade away...<br>Your final score is <t style=\"color:#8B008B; font-weight: bold;\">0</t> after 79 turns. Better luck next life!<br>Press 'F5' to play again.\t37"
     ]
    }
   ],
   "source": [
    "! tail -n 1 /tmp/wanderer/game.tsv "
   ]
  },
  {
   "cell_type": "markdown",
   "metadata": {
    "Collapsed": "false"
   },
   "source": [
    "# EOF"
   ]
  }
 ],
 "metadata": {
  "kernelspec": {
   "display_name": "Python 3",
   "language": "python",
   "name": "python3"
  },
  "language_info": {
   "codemirror_mode": {
    "name": "ipython",
    "version": 3
   },
   "file_extension": ".py",
   "mimetype": "text/x-python",
   "name": "python",
   "nbconvert_exporter": "python",
   "pygments_lexer": "ipython3",
   "version": "3.8.5"
  }
 },
 "nbformat": 4,
 "nbformat_minor": 4
}
