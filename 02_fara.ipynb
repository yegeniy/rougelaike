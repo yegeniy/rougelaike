{
 "cells": [
  {
   "cell_type": "markdown",
   "metadata": {
    "Collapsed": "false",
    "toc-hr-collapsed": false
   },
   "source": [
    "# FARA\n",
    "> Play FARA"
   ]
  },
  {
   "cell_type": "markdown",
   "metadata": {
    "Collapsed": "false"
   },
   "source": [
    "- https://playfara.com\n",
    "\n",
    "Motivation: A large part of playing FARA involves going through certain routines. These routines are fun to figure out, but their novelty wears off as the game progresses. When starting a new game of FARA, it is preferable to thoroughly search, harvest, and craft in the initial locality. It would be nice to automate away this early game routine. Another such routine is preparing for specific journeys which could involve harvesting and preparing shelter, meals, and rest."
   ]
  },
  {
   "cell_type": "markdown",
   "metadata": {
    "Collapsed": "false"
   },
   "source": [
    "- [ ] **Available Moves**: Learn what the available moves are by parsing the gamelog. And maybe in which situations they are useful.\n",
    "- [ ] **Satchel**: Learn to craft a burlap satchel in the first area.\n",
    "\n",
    "Other ideas that could be fun:\n",
    "\n",
    "- draw a map from the gamelog\n",
    "- recuperate\n",
    "\n",
    "Boring ideas that could be done:\n",
    "\n",
    "- farming :-1:"
   ]
  },
  {
   "cell_type": "markdown",
   "metadata": {
    "Collapsed": "false"
   },
   "source": [
    "## Available Moves"
   ]
  },
  {
   "cell_type": "markdown",
   "metadata": {
    "Collapsed": "false"
   },
   "source": [
    "- Given a game log ending with `> `, output valid commands\n",
    "- Probably want to start with a manually played game log. This would bootstrap the available commands. The game should be played without a map, so the player is forced to use the `/` commands only.\n",
    "- Labeling. As long as there is a valid, non-empty result, we can assume that the label is positive. When the wrong action is taken, we can say it's negative.\n",
    "- We might need to know how to determine that the game ended, etc.. But we probably don't need to do anything too sophisticated. We could just cap the log at several thousand attempts to take a turn.\n",
    "- Remember, that we're going to be generating the game logs in one phase, but training in a separate phase. Even when we get around to self play it should be separated."
   ]
  },
  {
   "cell_type": "markdown",
   "metadata": {
    "Collapsed": "false"
   },
   "source": [
    "## Satchel"
   ]
  },
  {
   "cell_type": "markdown",
   "metadata": {
    "Collapsed": "false"
   },
   "source": [
    "- The actual recipe is fairly constant. But it may be worth it to learn the recipe through a model. There is some need to understand English in order to discover the ingredients. For example, understanding \"2 Rolls of Burlap\" vs. \"Roll of Burlap\".\n",
    "- Could a bot say which ingredients are necessary given a target item?\n",
    "- The initial map and its resource location is random.\n",
    "\n",
    "If coding the algorithm, it'd be something like this:\n",
    "1. Identify ingredients to gather by recursively calling `/craft`.\n",
    "2. Find and Harvest the ingredients.\n",
    "3. Craft the ingredients."
   ]
  },
  {
   "cell_type": "markdown",
   "metadata": {
    "Collapsed": "false"
   },
   "source": [
    "## Starting FARA "
   ]
  },
  {
   "cell_type": "markdown",
   "metadata": {
    "Collapsed": "false"
   },
   "source": [
    "Initialize the Selenium driver.\n",
    "Unless you use headless mode, you'll want to keep this new Firefox window open as long as you are playing."
   ]
  },
  {
   "cell_type": "markdown",
   "metadata": {
    "Collapsed": "false"
   },
   "source": [
    "At this point, we will go through the steps necessary to start a game. And do so in a way that the game log can be saved. We'll use the log later to generate training data."
   ]
  },
  {
   "cell_type": "markdown",
   "metadata": {
    "Collapsed": "false"
   },
   "source": [
    "Time to get it saving somewhere more manageable. I'll try to overwrite the same file for now though."
   ]
  },
  {
   "cell_type": "code",
   "execution_count": 2,
   "metadata": {
    "Collapsed": "false"
   },
   "outputs": [],
   "source": [
    "! rm -f /tmp/fara/game/*\n",
    "! ls /tmp/fara/game/\n"
   ]
  },
  {
   "cell_type": "code",
   "execution_count": 3,
   "metadata": {
    "Collapsed": "false"
   },
   "outputs": [],
   "source": [
    "import os\n",
    "\n",
    "from selenium import webdriver\n",
    "\n",
    "# TODO: patch to a class\n",
    "def set_logging_dir(p):\n",
    "  log_dir = p\n",
    "  ! mkdir -p $p\n",
    "  ! rm $p/*\n",
    "  fp = webdriver.FirefoxProfile()\n",
    "\n",
    "  fp.set_preference(\"browser.download.folderList\",2)\n",
    "  fp.set_preference(\"browser.download.manager.showWhenStarting\",False)\n",
    "  fp.set_preference(\"browser.download.dir\", p)\n",
    "  # FIXME: these aren't working.\n",
    "  # fp.set_preference(\"browser.helperApps.neverAsk.saveToDisk\", \"text/plain\")\n",
    "  fp.set_preference(\"browser.helperApps.alwaysAsk.force\", False)\n",
    "\n",
    "  return (fp, p)"
   ]
  },
  {
   "cell_type": "code",
   "execution_count": 76,
   "metadata": {
    "Collapsed": "false"
   },
   "outputs": [],
   "source": [
    "from selenium.webdriver.firefox.options import Options\n",
    "import time\n",
    "\n",
    "# probably best to maintain just a single global driver to start.\n",
    "# TODO: use nbdev and go around all this global nonesense with a class.\n",
    "DRIVER = None\n",
    "def start_game():\n",
    "  global DRIVER\n",
    "  if DRIVER:\n",
    "    try: DRIVER.quit()\n",
    "    except: pass\n",
    "\n",
    "  options = Options()\n",
    "  # options.headless = True\n",
    "  fp, log_dir = set_logging_dir(\"/tmp/fara/game\")\n",
    "  DRIVER = webdriver.Firefox(options=options,\n",
    "    firefox_profile=fp\n",
    "  )\n",
    "  time.sleep(1)\n",
    "  DRIVER.get(\"https://brianiscreative.itch.io/fara\")\n",
    "  time.sleep(1)\n",
    "  # TODO: Wait until it's loaded\n",
    "  from selenium.webdriver.common.by import By\n",
    "  DRIVER.find_element_by_class_name(\"load_iframe_btn\").click()\n",
    "  time.sleep(1)\n",
    "  # TODO: Wait? until it's loaded\n",
    "  g = DRIVER.find_element(by=\"tag name\", value=\"body\")\n",
    "  [g.send_keys(c+\"\\n\") for c in [\"/setname bot\", \"/setclass soldier\"]]\n",
    "  time.sleep(1)\n",
    "  [g.send_keys(c+\"\\n\") for c in [\"/1\", \"/setdesc\", \"/stopsharing\", \"/hd\", \"/showinput\", \"/logging\"]]\n",
    "  \n",
    "  # Since the neverAsk option isn't working, we'll need to force the save via the `/savelog` command.\n",
    "  # The user will need to click \"Save File\" and \"Do this automatically for files like this from now on.\"\n",
    "  g.send_keys(\"/savelog\\n\")\n",
    "  input(\"\"\"\n",
    "    Since the neverAsk option isn't working, we'll need to force the save via the `/savelog` command.\n",
    "    The user will need to click \"Save File\" and \"Do this automatically for files like this from now on.\"\n",
    "    Hit enter in this prompt when this is done.\n",
    "  \"\"\")\n",
    "  \n",
    "  return g, log_dir\n"
   ]
  },
  {
   "cell_type": "code",
   "execution_count": 59,
   "metadata": {
    "Collapsed": "false"
   },
   "outputs": [
    {
     "name": "stdout",
     "output_type": "stream",
     "text": [
      "rm: /tmp/fara/game/*: No such file or directory\n"
     ]
    },
    {
     "name": "stdin",
     "output_type": "stream",
     "text": [
      "\n",
      "    Since the neverAsk option isn't working, we'll need to force the save via the `/savelog` command.\n",
      "    The user will need to click \"Save File\" and \"Do this automatically for files like this from now on.\"\n",
      "    Hit enter in this prompt when this is done.\n",
      "   \n"
     ]
    },
    {
     "name": "stdout",
     "output_type": "stream",
     "text": [
      "CPU times: user 27.7 ms, sys: 18.7 ms, total: 46.5 ms\n",
      "Wall time: 20.7 s\n"
     ]
    }
   ],
   "source": [
    "%%time\n",
    "g, log_dir = start_game()"
   ]
  },
  {
   "cell_type": "markdown",
   "metadata": {
    "Collapsed": "false"
   },
   "source": [
    "The log is now ready to be saved. \n",
    "\n",
    "If it was set up by the expectations above, the log should be output to a file that should starts with `The Life and Times of bot the Soldier` and ends with `.txt`.\n",
    "\n",
    "For now the gamelog is cumulative, but it will be possible [to clear it at some point](https://discord.com/channels/448497182392451073/448498300723789845/814283733988933652). \n",
    "\n",
    "Also at some point, we can try to autosave the file with this FAQ: https://selenium-python.readthedocs.io/faq.html?highlight=file#how-to-auto-save-files-using-custom-firefox-profile"
   ]
  },
  {
   "cell_type": "code",
   "execution_count": 66,
   "metadata": {
    "Collapsed": "false"
   },
   "outputs": [
    {
     "name": "stdout",
     "output_type": "stream",
     "text": [
      "Gaming logging  ENABLED\n",
      "> /savelog\n"
     ]
    }
   ],
   "source": [
    "!cat /tmp/fara/game/*"
   ]
  },
  {
   "cell_type": "markdown",
   "metadata": {
    "Collapsed": "false"
   },
   "source": [
    "## Making Moves"
   ]
  },
  {
   "cell_type": "markdown",
   "metadata": {
    "Collapsed": "false"
   },
   "source": [
    "Let's set up a short function to make a move and output the game log after each move."
   ]
  },
  {
   "cell_type": "code",
   "execution_count": 107,
   "metadata": {
    "Collapsed": "false"
   },
   "outputs": [],
   "source": [
    "import time\n",
    "\n",
    "def move(m, g=None, debug=False, savelog=True):\n",
    "  if not g:\n",
    "    g = DRIVER.find_element(by=\"tag name\", value=\"body\")\n",
    "  # [g.send_keys(x + \"\\n\") for x in [m, \"/savelog\"]]\n",
    "  g.send_keys(f\"{m}\\n\")\n",
    "  if savelog:\n",
    "    g.send_keys(\"/savelog\\n\")\n",
    "    # FIXME: would be nice to not need to avoid this,\n",
    "    # but once every ten turns the save seems to be too slow.\n",
    "    time.sleep(.1)\n",
    "    ! mv '{log_dir + \"/The Life and Times of bot the Soldier.txt\"}' '{log_dir + \"/log\"}'\n",
    "  if debug:\n",
    "    ! ls -latr {log_dir}\n",
    "    ! tail {log_dir}/log\n",
    "  "
   ]
  },
  {
   "cell_type": "code",
   "execution_count": 64,
   "metadata": {
    "Collapsed": "false"
   },
   "outputs": [
    {
     "name": "stdout",
     "output_type": "stream",
     "text": [
      "/tmp/fara/game\n"
     ]
    }
   ],
   "source": [
    "! echo $log_dir"
   ]
  },
  {
   "cell_type": "code",
   "execution_count": null,
   "metadata": {
    "Collapsed": "false"
   },
   "outputs": [],
   "source": [
    "move(\"/lt\", g, debug=True)"
   ]
  },
  {
   "cell_type": "markdown",
   "metadata": {
    "Collapsed": "false"
   },
   "source": [
    "There are a lot of moves that can be made.\n",
    "We are interested in training the bot to work in exploration mode. Not the travel mode.\n",
    "\n",
    "Let's list a few available moves."
   ]
  },
  {
   "cell_type": "code",
   "execution_count": 109,
   "metadata": {
    "Collapsed": "false"
   },
   "outputs": [
    {
     "name": "stdout",
     "output_type": "stream",
     "text": [
      "['/move n', '/move ne', '/move e', '/move se', '/move s', '/move sw', '/move w', '/move nw', '/look', '/harvest', '/approach 1', '/approach 2', '/approach 3', '/approach 4', '/approach 5', '/approach 6', '/approach 7', '/approach 8', '/approach 9', '/approach 10', '/target 1', '/take 1', '/harvest 1', '/craft burlap satchel', '/craft roll of burlap']\n"
     ]
    }
   ],
   "source": [
    "MOVES = [\"/\" + item for sublist in\n",
    "          [\n",
    "            [\"move \" + d for ds in [\"n ne e se s sw w nw\".split(\" \")] for d in ds],\n",
    "            [\"look\", \"harvest\"],\n",
    "            # Can't do commands like \"use\", since they prompt for input.\n",
    "            # No point in using commands like \"recipes\" since they don't log.\n",
    "            [\"approach \" + str(i) for i in range(1,11)],\n",
    "            [x + \" 1\" for x in [\"target\", \"take\", \"harvest\"]],\n",
    "            [\"craft \" + x for x in [\"burlap satchel\", \"roll of burlap\"]]\n",
    "          ] for item in sublist\n",
    "        ]\n",
    "print(MOVES)"
   ]
  },
  {
   "cell_type": "markdown",
   "metadata": {
    "Collapsed": "false"
   },
   "source": [
    "That should make for a nice format to store available moves in for debugging. Might not need it though.\n",
    "\n",
    "Let's move on to parsing the game log."
   ]
  },
  {
   "cell_type": "markdown",
   "metadata": {
    "Collapsed": "false"
   },
   "source": [
    "## The Gamelog"
   ]
  },
  {
   "cell_type": "markdown",
   "metadata": {
    "Collapsed": "false"
   },
   "source": [
    "### Persisting it"
   ]
  },
  {
   "cell_type": "markdown",
   "metadata": {
    "Collapsed": "false"
   },
   "source": [
    "First we'll want to copy it over somewhere more persistent than the temp directory."
   ]
  },
  {
   "cell_type": "code",
   "execution_count": 68,
   "metadata": {
    "Collapsed": "false"
   },
   "outputs": [],
   "source": [
    "def persist_log(src=None, tgt=None):\n",
    "  if not src:\n",
    "    src = f\"{log_dir}/log\"\n",
    "  if not tgt:\n",
    "    ts = ! date +%s\n",
    "    ts=ts[0]\n",
    "    tgt = f\"fara_logs/{ts}\"\n",
    "  !cp {src} {tgt}\n",
    "  print(tgt)"
   ]
  },
  {
   "cell_type": "code",
   "execution_count": 13,
   "metadata": {
    "Collapsed": "false"
   },
   "outputs": [],
   "source": [
    "# ! rm fara_logs/*"
   ]
  },
  {
   "cell_type": "code",
   "execution_count": 14,
   "metadata": {
    "Collapsed": "false"
   },
   "outputs": [
    {
     "name": "stdout",
     "output_type": "stream",
     "text": [
      "fara_logs/1614639855\n",
      "Gaming logging  ENABLED\n",
      "> /savelog\n",
      "> /lt\n",
      "You see an Adventurer  nine steps to the southeast,  a Shrouded Figure you are targeting  nine steps to the southeast,  and  an Orange Tree  nine steps to the north.\n",
      "> /savelog\n",
      "> /lt\n",
      "You see an Adventurer  nine steps to the southeast,  a Shrouded Figure you are targeting  nine steps to the southeast,  and  an Orange Tree  nine steps to the north.\n",
      "> /savelog\n"
     ]
    }
   ],
   "source": [
    "ts = ! date +%s\n",
    "ts=ts[0]\n",
    "persist_log(f\"{log_dir}/log\", f\"fara_logs/{ts}\")\n",
    "!tail fara_logs/{ts}"
   ]
  },
  {
   "cell_type": "markdown",
   "metadata": {
    "Collapsed": "false"
   },
   "source": [
    "Now that it's persisted, let's extract all the commands from the saved log. "
   ]
  },
  {
   "cell_type": "markdown",
   "metadata": {
    "Collapsed": "false"
   },
   "source": [
    "### Parsing it"
   ]
  },
  {
   "cell_type": "markdown",
   "metadata": {
    "Collapsed": "false"
   },
   "source": [
    "Let's not lose track of the goal here:\n",
    "\n",
    "> Given a game log ending with `> `, output the next command.\n",
    "\n",
    "I think this parsing is just a way to build up a custom vocabulary."
   ]
  },
  {
   "cell_type": "code",
   "execution_count": 69,
   "metadata": {
    "Collapsed": "false"
   },
   "outputs": [],
   "source": [
    "def extract_inputs(p=None):\n",
    "  if not p:\n",
    "    p = !ls fara_logs/ | tail -n 1\n",
    "    p = f\"fara_logs/{p[0]}\"\n",
    "  lines = !cat {p}\n",
    "  inputs = [line[2:] for i, line in enumerate(lines)\n",
    "            if line[0:2] == \"> \" and line not in [\"> \" + bl for bl in [\"/savelog\", \"/hd\", \"/help\"]]\n",
    "            and (not lines[i+1].endswith(\"is not a valid command.\"))\n",
    "           ]\n",
    "  return inputs"
   ]
  },
  {
   "cell_type": "code",
   "execution_count": 16,
   "metadata": {
    "Collapsed": "false"
   },
   "outputs": [],
   "source": [
    "# !grep 'valid' fara_logs/`ls fara_logs/ | tail -n 1`"
   ]
  },
  {
   "cell_type": "code",
   "execution_count": 17,
   "metadata": {
    "Collapsed": "false"
   },
   "outputs": [
    {
     "name": "stdout",
     "output_type": "stream",
     "text": [
      "{'/lt'}\n"
     ]
    }
   ],
   "source": [
    "print(set(extract_inputs()))"
   ]
  },
  {
   "cell_type": "markdown",
   "metadata": {
    "Collapsed": "false"
   },
   "source": [
    "Next we could try to build a labeled data set. But we should probably hit the breaks, step back, and build a random bot first. Once we have something that can make valid but random moves, we can try to substitute the random bot for a trained both. We should be able to re-use the skeleton from the random bot."
   ]
  },
  {
   "cell_type": "markdown",
   "metadata": {
    "Collapsed": "false"
   },
   "source": [
    "## Random Strategy"
   ]
  },
  {
   "cell_type": "markdown",
   "metadata": {
    "Collapsed": "false"
   },
   "source": [
    "Soon we can move on to predicting the next move. But for now, let's create something that can generated a game log from a hard-coded list of inputs.\n",
    "\n",
    "To start, our inputs can come from our latest game log."
   ]
  },
  {
   "cell_type": "code",
   "execution_count": 115,
   "metadata": {
    "Collapsed": "false"
   },
   "outputs": [],
   "source": [
    "import random\n",
    "\n",
    "def _moves(moves, moves_path = None):\n",
    "  if not moves:\n",
    "    moves = list(set(extract_inputs(moves_path)))\n",
    "  if not moves:\n",
    "    moves = MOVES\n",
    "  return moves\n",
    "\n",
    "def game(strategy='random', moves = [], moves_path=None, final_turn = 3):\n",
    "  moves = _moves(moves)\n",
    "  g, log_dir = start_game()\n",
    "  for t in range(final_turn):\n",
    "    if strategy == 'random':\n",
    "      m = random.choice(moves)\n",
    "      # print(m)\n",
    "      # when moving randomly we can afford to save only once in a while.\n",
    "      move(m, debug=False, savelog=(i%10 == 0))\n",
    "  persist_log()\n",
    "  return str(moves), g, log_dir"
   ]
  },
  {
   "cell_type": "code",
   "execution_count": 111,
   "metadata": {
    "Collapsed": "false",
    "collapsed": true,
    "jupyter": {
     "outputs_hidden": true
    }
   },
   "outputs": [
    {
     "ename": "WebDriverException",
     "evalue": "Message: Failed to decode response from marionette\n",
     "output_type": "error",
     "traceback": [
      "\u001b[0;31m---------------------------------------------------------------------------\u001b[0m",
      "\u001b[0;31mWebDriverException\u001b[0m                        Traceback (most recent call last)",
      "\u001b[0;32m<ipython-input-111-3e48e562faab>\u001b[0m in \u001b[0;36m<module>\u001b[0;34m\u001b[0m\n\u001b[0;32m----> 1\u001b[0;31m \u001b[0mgame\u001b[0m\u001b[0;34m(\u001b[0m\u001b[0mmoves_path\u001b[0m\u001b[0;34m=\u001b[0m\u001b[0;34m'fara_logs/1614638272'\u001b[0m\u001b[0;34m)\u001b[0m\u001b[0;34m\u001b[0m\u001b[0;34m\u001b[0m\u001b[0m\n\u001b[0m\u001b[1;32m      2\u001b[0m \u001b[0;31m# g.quit()\u001b[0m\u001b[0;34m\u001b[0m\u001b[0;34m\u001b[0m\u001b[0;34m\u001b[0m\u001b[0m\n",
      "\u001b[0;32m<ipython-input-110-70cbd4dbc55c>\u001b[0m in \u001b[0;36mgame\u001b[0;34m(strategy, moves, moves_path, final_turn)\u001b[0m\n\u001b[1;32m      7\u001b[0m     \u001b[0mmoves\u001b[0m \u001b[0;34m=\u001b[0m \u001b[0mMOVES\u001b[0m\u001b[0;34m\u001b[0m\u001b[0;34m\u001b[0m\u001b[0m\n\u001b[1;32m      8\u001b[0m \u001b[0;34m\u001b[0m\u001b[0m\n\u001b[0;32m----> 9\u001b[0;31m   \u001b[0mg\u001b[0m\u001b[0;34m,\u001b[0m \u001b[0mlog_dir\u001b[0m \u001b[0;34m=\u001b[0m \u001b[0mstart_game\u001b[0m\u001b[0;34m(\u001b[0m\u001b[0;34m)\u001b[0m\u001b[0;34m\u001b[0m\u001b[0;34m\u001b[0m\u001b[0m\n\u001b[0m\u001b[1;32m     10\u001b[0m   \u001b[0;32mfor\u001b[0m \u001b[0mt\u001b[0m \u001b[0;32min\u001b[0m \u001b[0mrange\u001b[0m\u001b[0;34m(\u001b[0m\u001b[0mfinal_turn\u001b[0m\u001b[0;34m)\u001b[0m\u001b[0;34m:\u001b[0m\u001b[0;34m\u001b[0m\u001b[0;34m\u001b[0m\u001b[0m\n\u001b[1;32m     11\u001b[0m     \u001b[0;32mif\u001b[0m \u001b[0mstrategy\u001b[0m \u001b[0;34m==\u001b[0m \u001b[0;34m'random'\u001b[0m\u001b[0;34m:\u001b[0m\u001b[0;34m\u001b[0m\u001b[0;34m\u001b[0m\u001b[0m\n",
      "\u001b[0;32m<ipython-input-76-634659095c3b>\u001b[0m in \u001b[0;36mstart_game\u001b[0;34m()\u001b[0m\n\u001b[1;32m     18\u001b[0m   )\n\u001b[1;32m     19\u001b[0m   \u001b[0mtime\u001b[0m\u001b[0;34m.\u001b[0m\u001b[0msleep\u001b[0m\u001b[0;34m(\u001b[0m\u001b[0;36m1\u001b[0m\u001b[0;34m)\u001b[0m\u001b[0;34m\u001b[0m\u001b[0;34m\u001b[0m\u001b[0m\n\u001b[0;32m---> 20\u001b[0;31m   \u001b[0mDRIVER\u001b[0m\u001b[0;34m.\u001b[0m\u001b[0mget\u001b[0m\u001b[0;34m(\u001b[0m\u001b[0;34m\"https://brianiscreative.itch.io/fara\"\u001b[0m\u001b[0;34m)\u001b[0m\u001b[0;34m\u001b[0m\u001b[0;34m\u001b[0m\u001b[0m\n\u001b[0m\u001b[1;32m     21\u001b[0m   \u001b[0mtime\u001b[0m\u001b[0;34m.\u001b[0m\u001b[0msleep\u001b[0m\u001b[0;34m(\u001b[0m\u001b[0;36m1\u001b[0m\u001b[0;34m)\u001b[0m\u001b[0;34m\u001b[0m\u001b[0;34m\u001b[0m\u001b[0m\n\u001b[1;32m     22\u001b[0m   \u001b[0;31m# TODO: Wait until it's loaded\u001b[0m\u001b[0;34m\u001b[0m\u001b[0;34m\u001b[0m\u001b[0;34m\u001b[0m\u001b[0m\n",
      "\u001b[0;32m/usr/local/lib/python3.8/site-packages/selenium/webdriver/remote/webdriver.py\u001b[0m in \u001b[0;36mget\u001b[0;34m(self, url)\u001b[0m\n\u001b[1;32m    331\u001b[0m         \u001b[0mLoads\u001b[0m \u001b[0ma\u001b[0m \u001b[0mweb\u001b[0m \u001b[0mpage\u001b[0m \u001b[0;32min\u001b[0m \u001b[0mthe\u001b[0m \u001b[0mcurrent\u001b[0m \u001b[0mbrowser\u001b[0m \u001b[0msession\u001b[0m\u001b[0;34m.\u001b[0m\u001b[0;34m\u001b[0m\u001b[0;34m\u001b[0m\u001b[0m\n\u001b[1;32m    332\u001b[0m         \"\"\"\n\u001b[0;32m--> 333\u001b[0;31m         \u001b[0mself\u001b[0m\u001b[0;34m.\u001b[0m\u001b[0mexecute\u001b[0m\u001b[0;34m(\u001b[0m\u001b[0mCommand\u001b[0m\u001b[0;34m.\u001b[0m\u001b[0mGET\u001b[0m\u001b[0;34m,\u001b[0m \u001b[0;34m{\u001b[0m\u001b[0;34m'url'\u001b[0m\u001b[0;34m:\u001b[0m \u001b[0murl\u001b[0m\u001b[0;34m}\u001b[0m\u001b[0;34m)\u001b[0m\u001b[0;34m\u001b[0m\u001b[0;34m\u001b[0m\u001b[0m\n\u001b[0m\u001b[1;32m    334\u001b[0m \u001b[0;34m\u001b[0m\u001b[0m\n\u001b[1;32m    335\u001b[0m     \u001b[0;34m@\u001b[0m\u001b[0mproperty\u001b[0m\u001b[0;34m\u001b[0m\u001b[0;34m\u001b[0m\u001b[0m\n",
      "\u001b[0;32m/usr/local/lib/python3.8/site-packages/selenium/webdriver/remote/webdriver.py\u001b[0m in \u001b[0;36mexecute\u001b[0;34m(self, driver_command, params)\u001b[0m\n\u001b[1;32m    319\u001b[0m         \u001b[0mresponse\u001b[0m \u001b[0;34m=\u001b[0m \u001b[0mself\u001b[0m\u001b[0;34m.\u001b[0m\u001b[0mcommand_executor\u001b[0m\u001b[0;34m.\u001b[0m\u001b[0mexecute\u001b[0m\u001b[0;34m(\u001b[0m\u001b[0mdriver_command\u001b[0m\u001b[0;34m,\u001b[0m \u001b[0mparams\u001b[0m\u001b[0;34m)\u001b[0m\u001b[0;34m\u001b[0m\u001b[0;34m\u001b[0m\u001b[0m\n\u001b[1;32m    320\u001b[0m         \u001b[0;32mif\u001b[0m \u001b[0mresponse\u001b[0m\u001b[0;34m:\u001b[0m\u001b[0;34m\u001b[0m\u001b[0;34m\u001b[0m\u001b[0m\n\u001b[0;32m--> 321\u001b[0;31m             \u001b[0mself\u001b[0m\u001b[0;34m.\u001b[0m\u001b[0merror_handler\u001b[0m\u001b[0;34m.\u001b[0m\u001b[0mcheck_response\u001b[0m\u001b[0;34m(\u001b[0m\u001b[0mresponse\u001b[0m\u001b[0;34m)\u001b[0m\u001b[0;34m\u001b[0m\u001b[0;34m\u001b[0m\u001b[0m\n\u001b[0m\u001b[1;32m    322\u001b[0m             response['value'] = self._unwrap_value(\n\u001b[1;32m    323\u001b[0m                 response.get('value', None))\n",
      "\u001b[0;32m/usr/local/lib/python3.8/site-packages/selenium/webdriver/remote/errorhandler.py\u001b[0m in \u001b[0;36mcheck_response\u001b[0;34m(self, response)\u001b[0m\n\u001b[1;32m    240\u001b[0m                 \u001b[0malert_text\u001b[0m \u001b[0;34m=\u001b[0m \u001b[0mvalue\u001b[0m\u001b[0;34m[\u001b[0m\u001b[0;34m'alert'\u001b[0m\u001b[0;34m]\u001b[0m\u001b[0;34m.\u001b[0m\u001b[0mget\u001b[0m\u001b[0;34m(\u001b[0m\u001b[0;34m'text'\u001b[0m\u001b[0;34m)\u001b[0m\u001b[0;34m\u001b[0m\u001b[0;34m\u001b[0m\u001b[0m\n\u001b[1;32m    241\u001b[0m             \u001b[0;32mraise\u001b[0m \u001b[0mexception_class\u001b[0m\u001b[0;34m(\u001b[0m\u001b[0mmessage\u001b[0m\u001b[0;34m,\u001b[0m \u001b[0mscreen\u001b[0m\u001b[0;34m,\u001b[0m \u001b[0mstacktrace\u001b[0m\u001b[0;34m,\u001b[0m \u001b[0malert_text\u001b[0m\u001b[0;34m)\u001b[0m\u001b[0;34m\u001b[0m\u001b[0;34m\u001b[0m\u001b[0m\n\u001b[0;32m--> 242\u001b[0;31m         \u001b[0;32mraise\u001b[0m \u001b[0mexception_class\u001b[0m\u001b[0;34m(\u001b[0m\u001b[0mmessage\u001b[0m\u001b[0;34m,\u001b[0m \u001b[0mscreen\u001b[0m\u001b[0;34m,\u001b[0m \u001b[0mstacktrace\u001b[0m\u001b[0;34m)\u001b[0m\u001b[0;34m\u001b[0m\u001b[0;34m\u001b[0m\u001b[0m\n\u001b[0m\u001b[1;32m    243\u001b[0m \u001b[0;34m\u001b[0m\u001b[0m\n\u001b[1;32m    244\u001b[0m     \u001b[0;32mdef\u001b[0m \u001b[0m_value_or_default\u001b[0m\u001b[0;34m(\u001b[0m\u001b[0mself\u001b[0m\u001b[0;34m,\u001b[0m \u001b[0mobj\u001b[0m\u001b[0;34m,\u001b[0m \u001b[0mkey\u001b[0m\u001b[0;34m,\u001b[0m \u001b[0mdefault\u001b[0m\u001b[0;34m)\u001b[0m\u001b[0;34m:\u001b[0m\u001b[0;34m\u001b[0m\u001b[0;34m\u001b[0m\u001b[0m\n",
      "\u001b[0;31mWebDriverException\u001b[0m: Message: Failed to decode response from marionette\n"
     ]
    }
   ],
   "source": [
    "# game(moves_path='fara_logs/1614638272')\n",
    "# g.quit()"
   ]
  },
  {
   "cell_type": "markdown",
   "metadata": {
    "Collapsed": "false"
   },
   "source": [
    "Okay, that plays nicely.\n",
    "\n",
    "I am seeing issues with the DRIVER not quiting the previous round, but we can address that later.\n",
    "\n",
    "Let's see what a longer game looks like."
   ]
  },
  {
   "cell_type": "code",
   "execution_count": 114,
   "metadata": {
    "Collapsed": "false"
   },
   "outputs": [
    {
     "name": "stdin",
     "output_type": "stream",
     "text": [
      "\n",
      "    Since the neverAsk option isn't working, we'll need to force the save via the `/savelog` command.\n",
      "    The user will need to click \"Save File\" and \"Do this automatically for files like this from now on.\"\n",
      "    Hit enter in this prompt when this is done.\n",
      "   \n"
     ]
    },
    {
     "name": "stdout",
     "output_type": "stream",
     "text": [
      "fara_logs/1614649593\n"
     ]
    }
   ],
   "source": [
    "_, g, _ = game(moves=MOVES, final_turn=100)"
   ]
  },
  {
   "cell_type": "markdown",
   "metadata": {
    "Collapsed": "false"
   },
   "source": [
    "Watching that is fine. Let's keep playing though"
   ]
  },
  {
   "cell_type": "code",
   "execution_count": 138,
   "metadata": {
    "Collapsed": "false"
   },
   "outputs": [],
   "source": [
    "def play_longer(g, turns, moves = [], strategy='random', tgt=None):\n",
    "  moves = _moves(moves)\n",
    "  for t in range(turns):\n",
    "    if strategy == 'random':\n",
    "      m = random.choice(moves)\n",
    "      # print(m)\n",
    "      # when moving randomly we can afford to save only once in a while.\n",
    "      move(m, debug=False, savelog=(t%100 == 0 or t==turns-1))\n",
    "  persist_log(tgt=tgt)"
   ]
  },
  {
   "cell_type": "code",
   "execution_count": 140,
   "metadata": {
    "Collapsed": "false"
   },
   "outputs": [
    {
     "name": "stdout",
     "output_type": "stream",
     "text": [
      "mv: /tmp/fara/game/The Life and Times of bot the Soldier.txt: No such file or directory\n",
      "fara_logs/latest\n"
     ]
    }
   ],
   "source": [
    "play_longer(g, 1111, moves=MOVES, tgt=\"fara_logs/latest\")"
   ]
  },
  {
   "cell_type": "code",
   "execution_count": 153,
   "metadata": {
    "Collapsed": "false"
   },
   "outputs": [
    {
     "name": "stdout",
     "output_type": "stream",
     "text": [
      "total 1920\n",
      "-rw-r--r--@ 1 ewolfson  staff   479K Mar  1 22:51 1614657062\n",
      "-rw-r--r--@ 1 ewolfson  staff   479K Mar  1 21:51 latest\n"
     ]
    }
   ],
   "source": [
    "!ls -hl fara_logs/"
   ]
  },
  {
   "cell_type": "code",
   "execution_count": 143,
   "metadata": {
    "Collapsed": "false"
   },
   "outputs": [],
   "source": [
    "! cp fara_logs/latest fara_logs/`date +%s`"
   ]
  },
  {
   "cell_type": "markdown",
   "metadata": {
    "Collapsed": "false"
   },
   "source": [
    "## Labeling data"
   ]
  },
  {
   "cell_type": "markdown",
   "metadata": {
    "Collapsed": "false"
   },
   "source": [
    "We have a fairly large log available. Let's use it to write some code for labeling the data.  It's only making a few moves, but it has enough variety in it to use for labelling.\n",
    "\n",
    "The content of the game log can act as its own label, similar to an LSTM model. The words `You cannot` or `/` following a command means that the command was invalid. A \"negative\" label. If we pass the model a command (and at least some of the preceeding game log), we can train the model to predict whether the command is valid. If the model can predict that it cannot do a given command, it might know enough about the game to know which moves it can do.\n",
    "\n",
    "We still have the problem of bootstrapping commands, but that list is enumerable, even manually. And we can take shortcuts to bootstrap it initially. Similar to how the `MOVES` list is basically hardcoded.\n",
    "\n",
    "We might not want to train the model to predict each word in the log. Though that is the common approach for LSTM and many text predictors.\n",
    "\n",
    "Remember, as always the final goal for this exercise.\n",
    "\n",
    "> Given a game log ending with `> `, output the next command."
   ]
  },
  {
   "cell_type": "markdown",
   "metadata": {
    "Collapsed": "false"
   },
   "source": [
    "Here are some basic statistics on the different moves taken."
   ]
  },
  {
   "cell_type": "code",
   "execution_count": 152,
   "metadata": {
    "Collapsed": "false"
   },
   "outputs": [
    {
     "name": "stdout",
     "output_type": "stream",
     "text": [
      " 163 > /approach 1\n",
      " 172 > /approach 10\n",
      " 184 > /approach 2\n",
      " 156 > /approach 3\n",
      " 147 > /approach 4\n",
      " 171 > /approach 5\n",
      " 149 > /approach 6\n",
      " 148 > /approach 7\n",
      " 162 > /approach 8\n",
      " 163 > /approach 9\n",
      "   1 > /arstar\n",
      " 153 > /craft burlap satchel\n",
      " 163 > /craft roll of burlap\n",
      " 184 > /harvest\n",
      " 174 > /harvest 1\n",
      " 173 > /look\n",
      " 161 > /move e\n",
      " 180 > /move n\n",
      " 174 > /move ne\n",
      " 148 > /move nw\n",
      " 166 > /move s\n",
      " 145 > /move se\n",
      " 166 > /move sw\n",
      " 170 > /move w\n",
      " 166 > /take 1\n",
      " 167 > /target 1\n",
      "    4106\n"
     ]
    }
   ],
   "source": [
    "! grep '> ' fara_logs/latest | grep -v '> /savelog' | sort | uniq -c\n",
    "! grep '> ' fara_logs/latest | grep -v '> /savelog' | wc -l"
   ]
  },
  {
   "cell_type": "markdown",
   "metadata": {
    "Collapsed": "false"
   },
   "source": [
    "Some moves are always valid, such as `/move ..` or `/look`. While others are only valid when the target is amenable to that action. `/harvest` only works on something harvestable. And finally, there are commands that are always invalid (such as `/arstar`).\n",
    "\n",
    "At this point it may make sense to bring in ~the big guns~ the fast.ai library to make sure we're processing the data for training in a way that works with their DataLoaders, etc.."
   ]
  },
  {
   "cell_type": "markdown",
   "metadata": {
    "Collapsed": "true"
   },
   "source": [
    "## Interface via Selenium"
   ]
  },
  {
   "cell_type": "markdown",
   "metadata": {
    "Collapsed": "false"
   },
   "source": [
    ":warning: this is just cruft that came from `cyber-wanderer` branch. Could be useful at some point."
   ]
  },
  {
   "cell_type": "code",
   "execution_count": null,
   "metadata": {
    "Collapsed": "false"
   },
   "outputs": [],
   "source": [
    "from selenium.webdriver.common.keys import Keys\n",
    "import random\n",
    "import re\n",
    "import io\n",
    "import sys\n",
    "\n",
    "lm = [\n",
    "    Keys.ARROW_DOWN, Keys.ARROW_LEFT, Keys.ARROW_UP, Keys.ARROW_RIGHT,\n",
    "    '.', 'x'\n",
    "]\n",
    "\n",
    "#################\n",
    "# Random Strategy\n",
    "# effectively, causes staff to be used less often\n",
    "# longer games, but not necessarily more points.\n",
    "costs = [1/cost for cost in [1,1,1,1,1,10]]\n",
    "def random_move(b):\n",
    "    return random.choices(lm, costs)\n",
    "#################\n",
    "\n",
    "#################\n",
    "# Manual Strategy [WIP]\n",
    "def human_move(b):\n",
    "    return sys.stdin.read(1)\n",
    "#################\n",
    "\n",
    "def board(g):\n",
    "    # .text is a little too magical (writes \\n instead of <br>, etc..)\n",
    "    return g.find_element(by=\"id\", value=\"tsv\").get_attribute('innerHTML')\n",
    "\n",
    "def game_score(g):\n",
    "    return None\n",
    "#     # .text is easier to regex than innerHTML\n",
    "#     game_over = re.search(\"Your final score is (\\d+) after \", g.text)\n",
    "#     # scoring function is the score, but alternative scoring\n",
    "#     # functions could count kills, visits, keys, etc..\n",
    "#     return game_over.group(1) if game_over else None\n",
    "\n",
    "def turn(g):\n",
    "    s = game_score(g)\n",
    "    b = board(g)\n",
    "    # How we get m will by the strategy\n",
    "    m = random_move(b)\n",
    "    # m = human_move(board(g))\n",
    "    if not s: g.send_keys(m)\n",
    "    return (s, f\"{b}\\t{m}\")\n",
    "\n",
    "def turn_score(b, g):\n",
    "    return 0\n",
    "#     try:\n",
    "#         return int(re.match(\"Self: (?:\\<[^>]+\\>)*(\\w+)\", b.split(\"\\t\")[2500]).group(1))\n",
    "#     except ValueError:\n",
    "#         return int(re.search(\"Your final score is (\\d+) after \", g.text).group(1))\n",
    "\n",
    "def reward(b1, b2, g):\n",
    "    return turn_score(b2, g) - turn_score(b1, g)\n",
    "\n",
    "# def game(driver, save_as=None):\n",
    "#     driver.get(\"https://brianiscreative.itch.io/fara\")\n",
    "#     g = driver.find_element(by=\"tag name\", value=\"body\")\n",
    "#     [g.send_keys(c) for c in [\"/stopsharing\", \"/hd\", \"/showinput\", \"/logging\"]]\n",
    "#     score = None\n",
    "#     history = []\n",
    "#     while score is None:\n",
    "#         score, b = turn(g)\n",
    "#         r = reward(b, board(g), g)\n",
    "#         # make sure not to leak the moves and rewards in training\n",
    "#         history.append(f\"{b}\\t{r}\")\n",
    "#     # print(history)\n",
    "#     if save_as:\n",
    "#         with open(f\"{save_as}\", \"w\") as f: f.write(\"\\n\".join(history))\n",
    "#     return int(score), len(history)"
   ]
  }
 ],
 "metadata": {
  "kernelspec": {
   "display_name": "Python 3",
   "language": "python",
   "name": "python3"
  },
  "language_info": {
   "codemirror_mode": {
    "name": "ipython",
    "version": 3
   },
   "file_extension": ".py",
   "mimetype": "text/x-python",
   "name": "python",
   "nbconvert_exporter": "python",
   "pygments_lexer": "ipython3",
   "version": "3.8.8"
  }
 },
 "nbformat": 4,
 "nbformat_minor": 4
}
