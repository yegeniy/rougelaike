{
 "cells": [
  {
   "cell_type": "markdown",
   "metadata": {
    "Collapsed": "false",
    "toc-hr-collapsed": false
   },
   "source": [
    "# FARA\n",
    "> Play FARA"
   ]
  },
  {
   "cell_type": "markdown",
   "metadata": {
    "Collapsed": "false"
   },
   "source": [
    "- https://playfara.com\n",
    "\n",
    "Motivation: A large part of playing FARA involves going through certain routines. These routines are fun to figure out, but their novelty wears off as the game progresses. When starting a new game of FARA, it is preferable to thoroughly search, harvest, and craft in the initial locality. It would be nice to automate away this early game routine. Another such routine is preparing for specific journeys which could involve harvesting and preparing shelter, meals, and rest."
   ]
  },
  {
   "cell_type": "markdown",
   "metadata": {
    "Collapsed": "false"
   },
   "source": [
    "- [ ] **Available Moves**: Learn what the available moves are by parsing the gamelog. And maybe in which situations they are useful.\n",
    "- [ ] **Satchel**: Learn to craft a burlap satchel in the first area.\n"
   ]
  },
  {
   "cell_type": "markdown",
   "metadata": {
    "Collapsed": "false"
   },
   "source": [
    "## Available Moves"
   ]
  },
  {
   "cell_type": "markdown",
   "metadata": {
    "Collapsed": "false"
   },
   "source": [
    "- Given a game log ending with `> `, output the next command.\n",
    "- Start with a game log."
   ]
  },
  {
   "cell_type": "markdown",
   "metadata": {
    "Collapsed": "true"
   },
   "source": [
    "## Interface via Selenium"
   ]
  },
  {
   "cell_type": "code",
   "execution_count": 26,
   "metadata": {
    "Collapsed": "false"
   },
   "outputs": [],
   "source": [
    "from selenium.webdriver.common.keys import Keys\n",
    "import random\n",
    "import re\n",
    "import io\n",
    "import sys\n",
    "\n",
    "lm = [\n",
    "    Keys.ARROW_DOWN, Keys.ARROW_LEFT, Keys.ARROW_UP, Keys.ARROW_RIGHT,\n",
    "    '.', 'x'\n",
    "]\n",
    "\n",
    "#################\n",
    "# Random Strategy\n",
    "# effectively, causes staff to be used less often\n",
    "# longer games, but not necessarily more points.\n",
    "costs = [1/cost for cost in [1,1,1,1,1,10]]\n",
    "def random_move(b):\n",
    "    return random.choices(lm, costs)\n",
    "#################\n",
    "\n",
    "#################\n",
    "# Manual Strategy [WIP]\n",
    "def human_move(b):\n",
    "    return sys.stdin.read(1)\n",
    "#################\n",
    "\n",
    "def board(g):\n",
    "    # .text is a little too magical (writes \\n instead of <br>, etc..)\n",
    "    return g.find_element(by=\"id\", value=\"tsv\").get_attribute('innerHTML')\n",
    "\n",
    "def game_score(g):\n",
    "    return None\n",
    "#     # .text is easier to regex than innerHTML\n",
    "#     game_over = re.search(\"Your final score is (\\d+) after \", g.text)\n",
    "#     # scoring function is the score, but alternative scoring\n",
    "#     # functions could count kills, visits, keys, etc..\n",
    "#     return game_over.group(1) if game_over else None\n",
    "\n",
    "def turn(g):\n",
    "    s = game_score(g)\n",
    "    b = board(g)\n",
    "    # How we get m will by the strategy\n",
    "    m = random_move(b)\n",
    "    # m = human_move(board(g))\n",
    "    if not s: g.send_keys(m)\n",
    "    return (s, f\"{b}\\t{m}\")\n",
    "\n",
    "def turn_score(b, g):\n",
    "    return 0\n",
    "#     try:\n",
    "#         return int(re.match(\"Self: (?:\\<[^>]+\\>)*(\\w+)\", b.split(\"\\t\")[2500]).group(1))\n",
    "#     except ValueError:\n",
    "#         return int(re.search(\"Your final score is (\\d+) after \", g.text).group(1))\n",
    "\n",
    "def reward(b1, b2, g):\n",
    "    return turn_score(b2, g) - turn_score(b1, g)\n",
    "\n",
    "# def game(driver, save_as=None):\n",
    "#     driver.get(\"https://brianiscreative.itch.io/fara\")\n",
    "#     g = driver.find_element(by=\"tag name\", value=\"body\")\n",
    "#     [g.send_keys(c) for c in [\"/stopsharing\", \"/hd\", \"/showinput\", \"/logging\"]]\n",
    "#     score = None\n",
    "#     history = []\n",
    "#     while score is None:\n",
    "#         score, b = turn(g)\n",
    "#         r = reward(b, board(g), g)\n",
    "#         # make sure not to leak the moves and rewards in training\n",
    "#         history.append(f\"{b}\\t{r}\")\n",
    "#     # print(history)\n",
    "#     if save_as:\n",
    "#         with open(f\"{save_as}\", \"w\") as f: f.write(\"\\n\".join(history))\n",
    "#     return int(score), len(history)"
   ]
  },
  {
   "cell_type": "markdown",
   "metadata": {
    "Collapsed": "false"
   },
   "source": [
    "## Starting FARA "
   ]
  },
  {
   "cell_type": "markdown",
   "metadata": {
    "Collapsed": "false"
   },
   "source": [
    "Initialize the Selenium driver.\n",
    "Unless you use headless mode, you'll want to keep this new Firefox window open as long as you are playing."
   ]
  },
  {
   "cell_type": "markdown",
   "metadata": {
    "Collapsed": "false"
   },
   "source": [
    "At this point, we will go through the steps necessary to start a game. And do so in a way that the game log can be saved. We'll use the log later to generate training data."
   ]
  },
  {
   "cell_type": "markdown",
   "metadata": {
    "Collapsed": "false"
   },
   "source": [
    "Time to get it saving somewhere more manageable. I'll try to overwrite the same file for now though."
   ]
  },
  {
   "cell_type": "code",
   "execution_count": 198,
   "metadata": {
    "Collapsed": "false"
   },
   "outputs": [],
   "source": [
    "! rm -f /tmp/fara/game/*\n",
    "! ls /tmp/fara/game/\n"
   ]
  },
  {
   "cell_type": "code",
   "execution_count": 199,
   "metadata": {
    "Collapsed": "false"
   },
   "outputs": [],
   "source": [
    "import os\n",
    "\n",
    "from selenium import webdriver\n",
    "\n",
    "# TODO: patch to a class\n",
    "def set_logging_dir(p):\n",
    "  log_dir = p\n",
    "  ! mkdir -p $p\n",
    "  ! rm $p/*\n",
    "  fp = webdriver.FirefoxProfile()\n",
    "\n",
    "  fp.set_preference(\"browser.download.folderList\",2)\n",
    "  fp.set_preference(\"browser.download.manager.showWhenStarting\",False)\n",
    "  fp.set_preference(\"browser.download.dir\", p)\n",
    "  # FIXME: these aren't working.\n",
    "  # fp.set_preference(\"browser.helperApps.neverAsk.saveToDisk\", \"text/plain\")\n",
    "  fp.set_preference(\"browser.helperApps.alwaysAsk.force\", False)\n",
    "\n",
    "  return (fp, p)"
   ]
  },
  {
   "cell_type": "markdown",
   "metadata": {
    "Collapsed": "false"
   },
   "source": [
    "Okay. Now that we're moving along, it's a good time to start getting organized about how we start the game."
   ]
  },
  {
   "cell_type": "code",
   "execution_count": 202,
   "metadata": {
    "Collapsed": "false"
   },
   "outputs": [],
   "source": [
    "from selenium.webdriver.firefox.options import Options\n",
    "import time\n",
    "\n",
    "def start_game():\n",
    "  driver = webdriver.Firefox()\n",
    "  try: driver.quit()\n",
    "  except: pass\n",
    "  options = Options()\n",
    "  # options.headless = True\n",
    "  fp, log_dir = set_logging_dir(\"/tmp/fara/game\")\n",
    "  driver = webdriver.Firefox(options=options,\n",
    "    firefox_profile=fp\n",
    "  )\n",
    "  time.sleep(1)\n",
    "  driver.get(\"https://brianiscreative.itch.io/fara\")\n",
    "  time.sleep(1)\n",
    "  # TODO: Wait until it's loaded\n",
    "  from selenium.webdriver.common.by import By\n",
    "  driver.find_element_by_class_name(\"load_iframe_btn\").click()\n",
    "  time.sleep(1)\n",
    "  # TODO: Wait? until it's loaded\n",
    "  g = driver.find_element(by=\"tag name\", value=\"body\")\n",
    "  [g.send_keys(c+\"\\n\") for c in [\"/setname bot\", \"/setclass soldier\"]]\n",
    "  time.sleep(1)\n",
    "  [g.send_keys(c+\"\\n\") for c in [\"/1\", \"/setdesc\", \"/stopsharing\", \"/hd\", \"/showinput\", \"/logging\"]]\n",
    "  \n",
    "  # Since the neverAsk option isn't working, we'll need to force the save via the `/savelog` command.\n",
    "  # The user will need to click \"Save File\" and \"Do this automatically for files like this from now on.\"\n",
    "  g.send_keys(\"/savelog\\n\")\n",
    "  \n",
    "  return g, log_dir\n"
   ]
  },
  {
   "cell_type": "code",
   "execution_count": 203,
   "metadata": {
    "Collapsed": "false"
   },
   "outputs": [
    {
     "name": "stdout",
     "output_type": "stream",
     "text": [
      "rm: /tmp/fara/game/*: No such file or directory\n",
      "CPU times: user 35.2 ms, sys: 25.4 ms, total: 60.6 ms\n",
      "Wall time: 14 s\n"
     ]
    }
   ],
   "source": [
    "%%time\n",
    "g, log_dir = start_game()"
   ]
  },
  {
   "cell_type": "markdown",
   "metadata": {
    "Collapsed": "false"
   },
   "source": [
    "The log is now ready to be saved. \n",
    "\n",
    "If it was set up by the expectations above, the log should be output to a file that should starts with `The Life and Times of bot the Soldier` and ends with `.txt`.\n",
    "\n",
    "For now the gamelog is cumulative, but it will be possible [to clear it at some point](https://discord.com/channels/448497182392451073/448498300723789845/814283733988933652). \n",
    "\n",
    "Also at some point, we can try to autosave the file with this FAQ: https://selenium-python.readthedocs.io/faq.html?highlight=file#how-to-auto-save-files-using-custom-firefox-profile"
   ]
  },
  {
   "cell_type": "markdown",
   "metadata": {
    "Collapsed": "false"
   },
   "source": [
    "## Making Moves"
   ]
  },
  {
   "cell_type": "markdown",
   "metadata": {
    "Collapsed": "false"
   },
   "source": [
    "Let's set up a short function to make a move and output the game log after each move."
   ]
  },
  {
   "cell_type": "code",
   "execution_count": 154,
   "metadata": {
    "Collapsed": "false"
   },
   "outputs": [],
   "source": [
    "def move(m):\n",
    "  [g.send_keys(x + \"\\n\") for x in [m, \"/savelog\"]]\n",
    "  ! mv '{log_dir + \"/The Life and Times of bot the Soldier.txt\"}' '{log_dir + \"/log\"}'\n",
    "  ! ls -latr {log_dir}\n",
    "  "
   ]
  },
  {
   "cell_type": "code",
   "execution_count": 155,
   "metadata": {
    "Collapsed": "false"
   },
   "outputs": [
    {
     "name": "stdout",
     "output_type": "stream",
     "text": [
      "/tmp/fara/game\n"
     ]
    }
   ],
   "source": [
    "! echo $log_dir"
   ]
  },
  {
   "cell_type": "code",
   "execution_count": 160,
   "metadata": {
    "Collapsed": "false"
   },
   "outputs": [
    {
     "name": "stdout",
     "output_type": "stream",
     "text": [
      "total 24\n",
      "drwxr-xr-x  3 ewolfson  wheel    96 Feb 28 18:28 \u001b[34m..\u001b[m\u001b[m\n",
      "-rw-r--r--@ 1 ewolfson  wheel   664 Feb 28 18:56 The Life and Times of bot the Soldier(1).txt\n",
      "-rw-r--r--@ 1 ewolfson  wheel  4306 Feb 28 18:57 log\n",
      "drwxr-xr-x  4 ewolfson  wheel   128 Feb 28 18:57 \u001b[34m.\u001b[m\u001b[m\n"
     ]
    }
   ],
   "source": [
    "move(\"/look\")"
   ]
  },
  {
   "cell_type": "markdown",
   "metadata": {
    "Collapsed": "false"
   },
   "source": [
    "There are a lot of moves that can be made.\n",
    "We are interested in training the bot to work in exploration mode. Not the travel mode.\n",
    "\n",
    "Let's list a few available moves."
   ]
  },
  {
   "cell_type": "code",
   "execution_count": 180,
   "metadata": {
    "Collapsed": "false"
   },
   "outputs": [
    {
     "data": {
      "text/plain": [
       "['/move n',\n",
       " '/move ne',\n",
       " '/move e',\n",
       " '/move se',\n",
       " '/move s',\n",
       " '/move sw',\n",
       " '/move w',\n",
       " '/move nw',\n",
       " '/look',\n",
       " '/use',\n",
       " '/recipes']"
      ]
     },
     "execution_count": 180,
     "metadata": {},
     "output_type": "execute_result"
    }
   ],
   "source": [
    "\n",
    "MOVES = [\"/\" + item for sublist in\n",
    "          [\n",
    "            [\"move \" + d for ds in [\"n ne e se s sw w nw\".split(\" \")] for d in ds],\n",
    "            [\"look\", \"use\", \"recipes\"]\n",
    "          ] for item in sublist\n",
    "        ]\n",
    "MOVES"
   ]
  },
  {
   "cell_type": "code",
   "execution_count": 184,
   "metadata": {
    "Collapsed": "false"
   },
   "outputs": [
    {
     "data": {
      "text/plain": [
       "['move n',\n",
       " 'move ne',\n",
       " 'move e',\n",
       " 'move se',\n",
       " 'move s',\n",
       " 'move sw',\n",
       " 'move w',\n",
       " 'move nw',\n",
       " 'look',\n",
       " 'harvest',\n",
       " 'craft burlap satchel']"
      ]
     },
     "execution_count": 184,
     "metadata": {},
     "output_type": "execute_result"
    }
   ],
   "source": [
    "[item for sublist in [\n",
    "  [\"move \" + x for xs in [\"n ne e se s sw w nw\".split(\" \")] for x in xs],\n",
    "  [\"look\", \"harvest\"],\n",
    "  [\"craft \" + x for x in [\"burlap satchel\"]]\n",
    "] for item in sublist]"
   ]
  },
  {
   "cell_type": "markdown",
   "metadata": {
    "Collapsed": "false"
   },
   "source": [
    "Interesting. So, we do need some understanding of English to go from `/craft burlap satchel` to `/craft roll of burlap`."
   ]
  },
  {
   "cell_type": "code",
   "execution_count": 172,
   "metadata": {
    "Collapsed": "false"
   },
   "outputs": [
    {
     "ename": "TypeError",
     "evalue": "can only concatenate str (not \"list\") to str",
     "output_type": "error",
     "traceback": [
      "\u001b[0;31m---------------------------------------------------------------------------\u001b[0m",
      "\u001b[0;31mTypeError\u001b[0m                                 Traceback (most recent call last)",
      "\u001b[0;32m<ipython-input-172-d43d472c60c6>\u001b[0m in \u001b[0;36m<module>\u001b[0;34m\u001b[0m\n\u001b[0;32m----> 1\u001b[0;31m \u001b[0;34m[\u001b[0m\u001b[0;34m\"move \"\u001b[0m \u001b[0;34m+\u001b[0m \u001b[0md\u001b[0m \u001b[0;32mfor\u001b[0m \u001b[0md\u001b[0m \u001b[0;32min\u001b[0m \u001b[0;34m[\u001b[0m\u001b[0;34m\"n ne e se s sw w nw\"\u001b[0m\u001b[0;34m.\u001b[0m\u001b[0msplit\u001b[0m\u001b[0;34m(\u001b[0m\u001b[0;34m\" \"\u001b[0m\u001b[0;34m)\u001b[0m\u001b[0;34m]\u001b[0m\u001b[0;34m]\u001b[0m\u001b[0;34m\u001b[0m\u001b[0;34m\u001b[0m\u001b[0m\n\u001b[0m",
      "\u001b[0;32m<ipython-input-172-d43d472c60c6>\u001b[0m in \u001b[0;36m<listcomp>\u001b[0;34m(.0)\u001b[0m\n\u001b[0;32m----> 1\u001b[0;31m \u001b[0;34m[\u001b[0m\u001b[0;34m\"move \"\u001b[0m \u001b[0;34m+\u001b[0m \u001b[0md\u001b[0m \u001b[0;32mfor\u001b[0m \u001b[0md\u001b[0m \u001b[0;32min\u001b[0m \u001b[0;34m[\u001b[0m\u001b[0;34m\"n ne e se s sw w nw\"\u001b[0m\u001b[0;34m.\u001b[0m\u001b[0msplit\u001b[0m\u001b[0;34m(\u001b[0m\u001b[0;34m\" \"\u001b[0m\u001b[0;34m)\u001b[0m\u001b[0;34m]\u001b[0m\u001b[0;34m]\u001b[0m\u001b[0;34m\u001b[0m\u001b[0;34m\u001b[0m\u001b[0m\n\u001b[0m",
      "\u001b[0;31mTypeError\u001b[0m: can only concatenate str (not \"list\") to str"
     ]
    }
   ],
   "source": [
    "[\"move \" + item for sublist in [\"n ne e se s sw w nw\".split(\" \")] for item in sublist]"
   ]
  },
  {
   "cell_type": "code",
   "execution_count": null,
   "metadata": {
    "Collapsed": "false"
   },
   "outputs": [],
   "source": []
  }
 ],
 "metadata": {
  "kernelspec": {
   "display_name": "Python 3",
   "language": "python",
   "name": "python3"
  },
  "language_info": {
   "codemirror_mode": {
    "name": "ipython",
    "version": 3
   },
   "file_extension": ".py",
   "mimetype": "text/x-python",
   "name": "python",
   "nbconvert_exporter": "python",
   "pygments_lexer": "ipython3",
   "version": "3.8.8"
  }
 },
 "nbformat": 4,
 "nbformat_minor": 4
}
